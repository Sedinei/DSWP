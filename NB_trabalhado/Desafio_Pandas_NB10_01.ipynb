{
  "nbformat": 4,
  "nbformat_minor": 0,
  "metadata": {
    "colab": {
      "name": "Desafio Pandas - NB10_01.ipynb",
      "provenance": [],
      "authorship_tag": "ABX9TyN1Wjll2PFvtQbBV2g7imL0",
      "include_colab_link": true
    },
    "kernelspec": {
      "name": "python3",
      "display_name": "Python 3"
    }
  },
  "cells": [
    {
      "cell_type": "markdown",
      "metadata": {
        "id": "view-in-github",
        "colab_type": "text"
      },
      "source": [
        "<a href=\"https://colab.research.google.com/github/Sedinei/DSWP/blob/master/NB_trabalhado/Desafio_Pandas_NB10_01.ipynb\" target=\"_parent\"><img src=\"https://colab.research.google.com/assets/colab-badge.svg\" alt=\"Open In Colab\"/></a>"
      ]
    },
    {
      "cell_type": "markdown",
      "metadata": {
        "id": "o_cl0kFgQfFh"
      },
      "source": [
        "## Exercício\n",
        "* A partir dos dataframes USA_Abbrev, USA_Area e USA_Population, construa o Dataframe USA contendo as COLUNAS state, abbreviation, area, ages, year, population.\n"
      ]
    },
    {
      "cell_type": "code",
      "metadata": {
        "id": "mkn6Uhii465m"
      },
      "source": [
        "import pandas as pd"
      ],
      "execution_count": 1,
      "outputs": []
    },
    {
      "cell_type": "code",
      "metadata": {
        "id": "kCyIutCC39Ik"
      },
      "source": [
        "url_usa_abbrev = 'https://github.com/Sedinei/DSWP/raw/master/Dataframes/USA_Abbrev.csv'\n",
        "url_usa_area = 'https://github.com/Sedinei/DSWP/raw/master/Dataframes/USA_Area.csv'\n",
        "url_usa_population = 'https://github.com/Sedinei/DSWP/raw/master/Dataframes/USA_Population.csv'"
      ],
      "execution_count": 2,
      "outputs": []
    },
    {
      "cell_type": "code",
      "metadata": {
        "id": "K-xMwFhH6_kV"
      },
      "source": [
        "df_usa_abbrev = pd.read_csv(url_usa_abbrev)\n",
        "df_usa_area = pd.read_csv(url_usa_area)\n",
        "df_usa_population = pd.read_csv(url_usa_population)"
      ],
      "execution_count": 3,
      "outputs": []
    },
    {
      "cell_type": "code",
      "metadata": {
        "id": "ZGJEVp1F8ZZm"
      },
      "source": [
        "df_usa = df_usa_population.merge(df_usa_abbrev, how='outer', left_on='state_region', right_on='abbreviation')"
      ],
      "execution_count": 5,
      "outputs": []
    },
    {
      "cell_type": "code",
      "metadata": {
        "id": "mebyhjQC-iX7"
      },
      "source": [
        "df_usa = df_usa.merge(df_usa_area, how='outer', on='state').drop(columns='state_region')"
      ],
      "execution_count": 6,
      "outputs": []
    },
    {
      "cell_type": "code",
      "metadata": {
        "id": "3lT8LZkm-cED",
        "outputId": "431c5e31-a741-467c-fb86-bd1784a68dc8",
        "colab": {
          "base_uri": "https://localhost:8080/",
          "height": 202
        }
      },
      "source": [
        "df_usa.head()"
      ],
      "execution_count": 7,
      "outputs": [
        {
          "output_type": "execute_result",
          "data": {
            "text/html": [
              "<div>\n",
              "<style scoped>\n",
              "    .dataframe tbody tr th:only-of-type {\n",
              "        vertical-align: middle;\n",
              "    }\n",
              "\n",
              "    .dataframe tbody tr th {\n",
              "        vertical-align: top;\n",
              "    }\n",
              "\n",
              "    .dataframe thead th {\n",
              "        text-align: right;\n",
              "    }\n",
              "</style>\n",
              "<table border=\"1\" class=\"dataframe\">\n",
              "  <thead>\n",
              "    <tr style=\"text-align: right;\">\n",
              "      <th></th>\n",
              "      <th>ages</th>\n",
              "      <th>year</th>\n",
              "      <th>population</th>\n",
              "      <th>state</th>\n",
              "      <th>abbreviation</th>\n",
              "      <th>area</th>\n",
              "    </tr>\n",
              "  </thead>\n",
              "  <tbody>\n",
              "    <tr>\n",
              "      <th>0</th>\n",
              "      <td>under18</td>\n",
              "      <td>2012.0</td>\n",
              "      <td>1117489.0</td>\n",
              "      <td>Alabama</td>\n",
              "      <td>AL</td>\n",
              "      <td>52423.0</td>\n",
              "    </tr>\n",
              "    <tr>\n",
              "      <th>1</th>\n",
              "      <td>total</td>\n",
              "      <td>2012.0</td>\n",
              "      <td>4817528.0</td>\n",
              "      <td>Alabama</td>\n",
              "      <td>AL</td>\n",
              "      <td>52423.0</td>\n",
              "    </tr>\n",
              "    <tr>\n",
              "      <th>2</th>\n",
              "      <td>under18</td>\n",
              "      <td>2010.0</td>\n",
              "      <td>1130966.0</td>\n",
              "      <td>Alabama</td>\n",
              "      <td>AL</td>\n",
              "      <td>52423.0</td>\n",
              "    </tr>\n",
              "    <tr>\n",
              "      <th>3</th>\n",
              "      <td>total</td>\n",
              "      <td>2010.0</td>\n",
              "      <td>4785570.0</td>\n",
              "      <td>Alabama</td>\n",
              "      <td>AL</td>\n",
              "      <td>52423.0</td>\n",
              "    </tr>\n",
              "    <tr>\n",
              "      <th>4</th>\n",
              "      <td>under18</td>\n",
              "      <td>2011.0</td>\n",
              "      <td>1125763.0</td>\n",
              "      <td>Alabama</td>\n",
              "      <td>AL</td>\n",
              "      <td>52423.0</td>\n",
              "    </tr>\n",
              "  </tbody>\n",
              "</table>\n",
              "</div>"
            ],
            "text/plain": [
              "      ages    year  population    state abbreviation     area\n",
              "0  under18  2012.0   1117489.0  Alabama           AL  52423.0\n",
              "1    total  2012.0   4817528.0  Alabama           AL  52423.0\n",
              "2  under18  2010.0   1130966.0  Alabama           AL  52423.0\n",
              "3    total  2010.0   4785570.0  Alabama           AL  52423.0\n",
              "4  under18  2011.0   1125763.0  Alabama           AL  52423.0"
            ]
          },
          "metadata": {
            "tags": []
          },
          "execution_count": 7
        }
      ]
    }
  ]
}