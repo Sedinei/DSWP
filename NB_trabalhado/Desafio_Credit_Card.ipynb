{
  "nbformat": 4,
  "nbformat_minor": 0,
  "metadata": {
    "colab": {
      "name": "Desafio_Credit_Card.ipynb",
      "provenance": [],
      "authorship_tag": "ABX9TyMxTeEkuoBNOsJ1cFfn9g2Y",
      "include_colab_link": true
    },
    "kernelspec": {
      "name": "python3",
      "display_name": "Python 3"
    }
  },
  "cells": [
    {
      "cell_type": "markdown",
      "metadata": {
        "id": "view-in-github",
        "colab_type": "text"
      },
      "source": [
        "<a href=\"https://colab.research.google.com/github/Sedinei/DSWP/blob/master/NB_trabalhado/Desafio_Credit_Card.ipynb\" target=\"_parent\"><img src=\"https://colab.research.google.com/assets/colab-badge.svg\" alt=\"Open In Colab\"/></a>"
      ]
    },
    {
      "cell_type": "markdown",
      "metadata": {
        "id": "I4MKxQPB-Auq"
      },
      "source": [
        "## Clonando a biblioteca ds_toolbox"
      ]
    },
    {
      "cell_type": "code",
      "metadata": {
        "colab": {
          "base_uri": "https://localhost:8080/"
        },
        "id": "2eTjYrlT8yt5",
        "outputId": "8e59afe7-d75a-4c45-f79b-8aec0f9b137e"
      },
      "source": [
        "!git clone https://github.com/Sedinei/ds_toolbox.git"
      ],
      "execution_count": null,
      "outputs": [
        {
          "output_type": "stream",
          "text": [
            "Cloning into 'ds_toolbox'...\n",
            "remote: Enumerating objects: 22, done.\u001b[K\n",
            "remote: Counting objects: 100% (22/22), done.\u001b[K\n",
            "remote: Compressing objects: 100% (17/17), done.\u001b[K\n",
            "remote: Total 22 (delta 10), reused 14 (delta 5), pack-reused 0\u001b[K\n",
            "Unpacking objects: 100% (22/22), done.\n"
          ],
          "name": "stdout"
        }
      ]
    },
    {
      "cell_type": "markdown",
      "metadata": {
        "id": "UUEHgz1C-l1S"
      },
      "source": [
        "## Fazendo os importes necessários"
      ]
    },
    {
      "cell_type": "code",
      "metadata": {
        "id": "QmjSjZWk-pLz"
      },
      "source": [
        "import pandas as pd\r\n",
        "import numpy as np\r\n",
        "import matplotlib.pyplot as plt\r\n",
        "import seaborn as sns\r\n",
        "import sklearn.metrics as met\r\n",
        "from sklearn.model_selection import train_test_split\r\n",
        "from sklearn.tree import DecisionTreeClassifier\r\n",
        "import ds_toolbox.ds_toolbox as dstb"
      ],
      "execution_count": null,
      "outputs": []
    },
    {
      "cell_type": "markdown",
      "metadata": {
        "id": "uRy1jBgK-6or"
      },
      "source": [
        "## Obtendo o dataset e criando uma cópia do original"
      ]
    },
    {
      "cell_type": "code",
      "metadata": {
        "colab": {
          "base_uri": "https://localhost:8080/",
          "height": 222
        },
        "id": "dz91HK6T-56j",
        "outputId": "556db339-16bf-4132-9426-d0aa19e3f9d7"
      },
      "source": [
        "url = 'https://raw.githubusercontent.com/Sedinei/DSWP/master/Dataframes/creditcard.csv'\r\n",
        "df = pd.read_csv(url)\r\n",
        "df_original = df.copy()\r\n",
        "df.head()"
      ],
      "execution_count": null,
      "outputs": [
        {
          "output_type": "execute_result",
          "data": {
            "text/html": [
              "<div>\n",
              "<style scoped>\n",
              "    .dataframe tbody tr th:only-of-type {\n",
              "        vertical-align: middle;\n",
              "    }\n",
              "\n",
              "    .dataframe tbody tr th {\n",
              "        vertical-align: top;\n",
              "    }\n",
              "\n",
              "    .dataframe thead th {\n",
              "        text-align: right;\n",
              "    }\n",
              "</style>\n",
              "<table border=\"1\" class=\"dataframe\">\n",
              "  <thead>\n",
              "    <tr style=\"text-align: right;\">\n",
              "      <th></th>\n",
              "      <th>Time</th>\n",
              "      <th>V1</th>\n",
              "      <th>V2</th>\n",
              "      <th>V3</th>\n",
              "      <th>V4</th>\n",
              "      <th>V5</th>\n",
              "      <th>V6</th>\n",
              "      <th>V7</th>\n",
              "      <th>V8</th>\n",
              "      <th>V9</th>\n",
              "      <th>V10</th>\n",
              "      <th>V11</th>\n",
              "      <th>V12</th>\n",
              "      <th>V13</th>\n",
              "      <th>V14</th>\n",
              "      <th>V15</th>\n",
              "      <th>V16</th>\n",
              "      <th>V17</th>\n",
              "      <th>V18</th>\n",
              "      <th>V19</th>\n",
              "      <th>V20</th>\n",
              "      <th>V21</th>\n",
              "      <th>V22</th>\n",
              "      <th>V23</th>\n",
              "      <th>V24</th>\n",
              "      <th>V25</th>\n",
              "      <th>V26</th>\n",
              "      <th>V27</th>\n",
              "      <th>V28</th>\n",
              "      <th>Amount</th>\n",
              "      <th>Class</th>\n",
              "    </tr>\n",
              "  </thead>\n",
              "  <tbody>\n",
              "    <tr>\n",
              "      <th>0</th>\n",
              "      <td>0</td>\n",
              "      <td>-1.359807</td>\n",
              "      <td>-0.072781</td>\n",
              "      <td>2.536347</td>\n",
              "      <td>1.378155</td>\n",
              "      <td>-0.338321</td>\n",
              "      <td>0.462388</td>\n",
              "      <td>0.239599</td>\n",
              "      <td>0.098698</td>\n",
              "      <td>0.363787</td>\n",
              "      <td>0.090794</td>\n",
              "      <td>-0.551600</td>\n",
              "      <td>-0.617801</td>\n",
              "      <td>-0.991390</td>\n",
              "      <td>-0.311169</td>\n",
              "      <td>1.468177</td>\n",
              "      <td>-0.470401</td>\n",
              "      <td>0.207971</td>\n",
              "      <td>0.025791</td>\n",
              "      <td>0.403993</td>\n",
              "      <td>0.251412</td>\n",
              "      <td>-0.018307</td>\n",
              "      <td>0.277838</td>\n",
              "      <td>-0.110474</td>\n",
              "      <td>0.066928</td>\n",
              "      <td>0.128539</td>\n",
              "      <td>-0.189115</td>\n",
              "      <td>0.133558</td>\n",
              "      <td>-0.021053</td>\n",
              "      <td>149.62</td>\n",
              "      <td>0.0</td>\n",
              "    </tr>\n",
              "    <tr>\n",
              "      <th>1</th>\n",
              "      <td>0</td>\n",
              "      <td>1.191857</td>\n",
              "      <td>0.266151</td>\n",
              "      <td>0.166480</td>\n",
              "      <td>0.448154</td>\n",
              "      <td>0.060018</td>\n",
              "      <td>-0.082361</td>\n",
              "      <td>-0.078803</td>\n",
              "      <td>0.085102</td>\n",
              "      <td>-0.255425</td>\n",
              "      <td>-0.166974</td>\n",
              "      <td>1.612727</td>\n",
              "      <td>1.065235</td>\n",
              "      <td>0.489095</td>\n",
              "      <td>-0.143772</td>\n",
              "      <td>0.635558</td>\n",
              "      <td>0.463917</td>\n",
              "      <td>-0.114805</td>\n",
              "      <td>-0.183361</td>\n",
              "      <td>-0.145783</td>\n",
              "      <td>-0.069083</td>\n",
              "      <td>-0.225775</td>\n",
              "      <td>-0.638672</td>\n",
              "      <td>0.101288</td>\n",
              "      <td>-0.339846</td>\n",
              "      <td>0.167170</td>\n",
              "      <td>0.125895</td>\n",
              "      <td>-0.008983</td>\n",
              "      <td>0.014724</td>\n",
              "      <td>2.69</td>\n",
              "      <td>0.0</td>\n",
              "    </tr>\n",
              "    <tr>\n",
              "      <th>2</th>\n",
              "      <td>1</td>\n",
              "      <td>-1.358354</td>\n",
              "      <td>-1.340163</td>\n",
              "      <td>1.773209</td>\n",
              "      <td>0.379780</td>\n",
              "      <td>-0.503198</td>\n",
              "      <td>1.800499</td>\n",
              "      <td>0.791461</td>\n",
              "      <td>0.247676</td>\n",
              "      <td>-1.514654</td>\n",
              "      <td>0.207643</td>\n",
              "      <td>0.624501</td>\n",
              "      <td>0.066084</td>\n",
              "      <td>0.717293</td>\n",
              "      <td>-0.165946</td>\n",
              "      <td>2.345865</td>\n",
              "      <td>-2.890083</td>\n",
              "      <td>1.109969</td>\n",
              "      <td>-0.121359</td>\n",
              "      <td>-2.261857</td>\n",
              "      <td>0.524980</td>\n",
              "      <td>0.247998</td>\n",
              "      <td>0.771679</td>\n",
              "      <td>0.909412</td>\n",
              "      <td>-0.689281</td>\n",
              "      <td>-0.327642</td>\n",
              "      <td>-0.139097</td>\n",
              "      <td>-0.055353</td>\n",
              "      <td>-0.059752</td>\n",
              "      <td>378.66</td>\n",
              "      <td>0.0</td>\n",
              "    </tr>\n",
              "    <tr>\n",
              "      <th>3</th>\n",
              "      <td>1</td>\n",
              "      <td>-0.966272</td>\n",
              "      <td>-0.185226</td>\n",
              "      <td>1.792993</td>\n",
              "      <td>-0.863291</td>\n",
              "      <td>-0.010309</td>\n",
              "      <td>1.247203</td>\n",
              "      <td>0.237609</td>\n",
              "      <td>0.377436</td>\n",
              "      <td>-1.387024</td>\n",
              "      <td>-0.054952</td>\n",
              "      <td>-0.226487</td>\n",
              "      <td>0.178228</td>\n",
              "      <td>0.507757</td>\n",
              "      <td>-0.287924</td>\n",
              "      <td>-0.631418</td>\n",
              "      <td>-1.059647</td>\n",
              "      <td>-0.684093</td>\n",
              "      <td>1.965775</td>\n",
              "      <td>-1.232622</td>\n",
              "      <td>-0.208038</td>\n",
              "      <td>-0.108300</td>\n",
              "      <td>0.005274</td>\n",
              "      <td>-0.190321</td>\n",
              "      <td>-1.175575</td>\n",
              "      <td>0.647376</td>\n",
              "      <td>-0.221929</td>\n",
              "      <td>0.062723</td>\n",
              "      <td>0.061458</td>\n",
              "      <td>123.50</td>\n",
              "      <td>0.0</td>\n",
              "    </tr>\n",
              "    <tr>\n",
              "      <th>4</th>\n",
              "      <td>2</td>\n",
              "      <td>-1.158233</td>\n",
              "      <td>0.877737</td>\n",
              "      <td>1.548718</td>\n",
              "      <td>0.403034</td>\n",
              "      <td>-0.407193</td>\n",
              "      <td>0.095921</td>\n",
              "      <td>0.592941</td>\n",
              "      <td>-0.270533</td>\n",
              "      <td>0.817739</td>\n",
              "      <td>0.753074</td>\n",
              "      <td>-0.822843</td>\n",
              "      <td>0.538196</td>\n",
              "      <td>1.345852</td>\n",
              "      <td>-1.119670</td>\n",
              "      <td>0.175121</td>\n",
              "      <td>-0.451449</td>\n",
              "      <td>-0.237033</td>\n",
              "      <td>-0.038195</td>\n",
              "      <td>0.803487</td>\n",
              "      <td>0.408542</td>\n",
              "      <td>-0.009431</td>\n",
              "      <td>0.798278</td>\n",
              "      <td>-0.137458</td>\n",
              "      <td>0.141267</td>\n",
              "      <td>-0.206010</td>\n",
              "      <td>0.502292</td>\n",
              "      <td>0.219422</td>\n",
              "      <td>0.215153</td>\n",
              "      <td>69.99</td>\n",
              "      <td>0.0</td>\n",
              "    </tr>\n",
              "  </tbody>\n",
              "</table>\n",
              "</div>"
            ],
            "text/plain": [
              "   Time        V1        V2        V3  ...       V27       V28  Amount  Class\n",
              "0     0 -1.359807 -0.072781  2.536347  ...  0.133558 -0.021053  149.62    0.0\n",
              "1     0  1.191857  0.266151  0.166480  ... -0.008983  0.014724    2.69    0.0\n",
              "2     1 -1.358354 -1.340163  1.773209  ... -0.055353 -0.059752  378.66    0.0\n",
              "3     1 -0.966272 -0.185226  1.792993  ...  0.062723  0.061458  123.50    0.0\n",
              "4     2 -1.158233  0.877737  1.548718  ...  0.219422  0.215153   69.99    0.0\n",
              "\n",
              "[5 rows x 31 columns]"
            ]
          },
          "metadata": {
            "tags": []
          },
          "execution_count": 7
        }
      ]
    },
    {
      "cell_type": "markdown",
      "metadata": {
        "id": "qFPBulLV_5Oo"
      },
      "source": [
        "### Vendo as classes e os missing values"
      ]
    },
    {
      "cell_type": "code",
      "metadata": {
        "colab": {
          "base_uri": "https://localhost:8080/"
        },
        "id": "0LfNL8WF_tyT",
        "outputId": "896fbec0-af09-4786-d417-cc2f2b36ee24"
      },
      "source": [
        "df['Class'].unique()"
      ],
      "execution_count": null,
      "outputs": [
        {
          "output_type": "execute_result",
          "data": {
            "text/plain": [
              "array([ 0.,  1., nan])"
            ]
          },
          "metadata": {
            "tags": []
          },
          "execution_count": 8
        }
      ]
    },
    {
      "cell_type": "code",
      "metadata": {
        "colab": {
          "base_uri": "https://localhost:8080/"
        },
        "id": "kPWK1nYGAI-e",
        "outputId": "92a4a018-fbcf-4d1b-f066-27c0fec1feae"
      },
      "source": [
        "dstb.count_missing_values(df)"
      ],
      "execution_count": null,
      "outputs": [
        {
          "output_type": "stream",
          "text": [
            "Número total de linhas: 12842\n",
            "Total de linhas que tem ao menos algum dado faltante: 1 (0.008%)\n",
            "Quantidade de dados faltantes por feature:\n",
            "        missing      %\n",
            "Time          0  0.000\n",
            "V1            0  0.000\n",
            "V2            0  0.000\n",
            "V3            0  0.000\n",
            "V4            0  0.000\n",
            "V5            0  0.000\n",
            "V6            0  0.000\n",
            "V7            0  0.000\n",
            "V8            0  0.000\n",
            "V9            0  0.000\n",
            "V10           1  0.008\n",
            "V11           1  0.008\n",
            "V12           1  0.008\n",
            "V13           1  0.008\n",
            "V14           1  0.008\n",
            "V15           1  0.008\n",
            "V16           1  0.008\n",
            "V17           1  0.008\n",
            "V18           1  0.008\n",
            "V19           1  0.008\n",
            "V20           1  0.008\n",
            "V21           1  0.008\n",
            "V22           1  0.008\n",
            "V23           1  0.008\n",
            "V24           1  0.008\n",
            "V25           1  0.008\n",
            "V26           1  0.008\n",
            "V27           1  0.008\n",
            "V28           1  0.008\n",
            "Amount        1  0.008\n",
            "Class         1  0.008\n"
          ],
          "name": "stdout"
        }
      ]
    },
    {
      "cell_type": "markdown",
      "metadata": {
        "id": "AM6uFRrQAi2o"
      },
      "source": [
        "Como temos apenas uma linha com dados faltantes, vou apensa excluí-la"
      ]
    },
    {
      "cell_type": "code",
      "metadata": {
        "colab": {
          "base_uri": "https://localhost:8080/"
        },
        "id": "-QXAJAvaAoZ4",
        "outputId": "c53abbb9-6b5b-4bcb-d2d0-11d2ecdabbec"
      },
      "source": [
        "df = df.dropna()\r\n",
        "dstb.count_missing_values(df)"
      ],
      "execution_count": null,
      "outputs": [
        {
          "output_type": "stream",
          "text": [
            "Número total de linhas: 12841\n",
            "Total de linhas que tem ao menos algum dado faltante: 0 (0.0%)\n",
            "Quantidade de dados faltantes por feature:\n",
            "        missing    %\n",
            "Time          0  0.0\n",
            "V1            0  0.0\n",
            "V2            0  0.0\n",
            "V3            0  0.0\n",
            "V4            0  0.0\n",
            "V5            0  0.0\n",
            "V6            0  0.0\n",
            "V7            0  0.0\n",
            "V8            0  0.0\n",
            "V9            0  0.0\n",
            "V10           0  0.0\n",
            "V11           0  0.0\n",
            "V12           0  0.0\n",
            "V13           0  0.0\n",
            "V14           0  0.0\n",
            "V15           0  0.0\n",
            "V16           0  0.0\n",
            "V17           0  0.0\n",
            "V18           0  0.0\n",
            "V19           0  0.0\n",
            "V20           0  0.0\n",
            "V21           0  0.0\n",
            "V22           0  0.0\n",
            "V23           0  0.0\n",
            "V24           0  0.0\n",
            "V25           0  0.0\n",
            "V26           0  0.0\n",
            "V27           0  0.0\n",
            "V28           0  0.0\n",
            "Amount        0  0.0\n",
            "Class         0  0.0\n"
          ],
          "name": "stdout"
        }
      ]
    },
    {
      "cell_type": "markdown",
      "metadata": {
        "id": "-p94KtROA9cq"
      },
      "source": [
        "## Deixando todos os nomes em minúsculas"
      ]
    },
    {
      "cell_type": "code",
      "metadata": {
        "colab": {
          "base_uri": "https://localhost:8080/"
        },
        "id": "6zMxIuC3A8C5",
        "outputId": "b0a2caa3-730e-49cb-a59f-2ecd256e53f2"
      },
      "source": [
        "df.columns = [col.lower() for col in df.columns]\r\n",
        "df.columns"
      ],
      "execution_count": null,
      "outputs": [
        {
          "output_type": "execute_result",
          "data": {
            "text/plain": [
              "Index(['time', 'v1', 'v2', 'v3', 'v4', 'v5', 'v6', 'v7', 'v8', 'v9', 'v10',\n",
              "       'v11', 'v12', 'v13', 'v14', 'v15', 'v16', 'v17', 'v18', 'v19', 'v20',\n",
              "       'v21', 'v22', 'v23', 'v24', 'v25', 'v26', 'v27', 'v28', 'amount',\n",
              "       'class'],\n",
              "      dtype='object')"
            ]
          },
          "metadata": {
            "tags": []
          },
          "execution_count": 14
        }
      ]
    },
    {
      "cell_type": "markdown",
      "metadata": {
        "id": "AB2V9y5MB-VX"
      },
      "source": [
        "Verificando a distribuição da variável alvo (class)"
      ]
    },
    {
      "cell_type": "code",
      "metadata": {
        "colab": {
          "base_uri": "https://localhost:8080/",
          "height": 303
        },
        "id": "NEJeYpo7B9FP",
        "outputId": "163f86fa-bad8-4ae6-d9b4-840eb62c27c3"
      },
      "source": [
        "sns.countplot(x='class', data=df)"
      ],
      "execution_count": null,
      "outputs": [
        {
          "output_type": "execute_result",
          "data": {
            "text/plain": [
              "<matplotlib.axes._subplots.AxesSubplot at 0x7fdc18a0e7f0>"
            ]
          },
          "metadata": {
            "tags": []
          },
          "execution_count": 36
        },
        {
          "output_type": "display_data",
          "data": {
            "image/png": "[encoded data removed]",
            "text/plain": [
              "<Figure size 432x288 with 1 Axes>"
            ]
          },
          "metadata": {
            "tags": []
          }
        }
      ]
    },
    {
      "cell_type": "code",
      "metadata": {
        "colab": {
          "base_uri": "https://localhost:8080/"
        },
        "id": "GcDMfLWPCiG5",
        "outputId": "85647bd9-80db-4103-b098-a68c69cf5723"
      },
      "source": [
        "classes = {0: 'Não fraude', 1: 'Fraude'} # Dicionário para melhorar o entendimento da saída\r\n",
        "df['class'].value_counts().rename(index=classes)"
      ],
      "execution_count": null,
      "outputs": [
        {
          "output_type": "execute_result",
          "data": {
            "text/plain": [
              "Não fraude    12785\n",
              "Fraude           56\n",
              "Name: class, dtype: int64"
            ]
          },
          "metadata": {
            "tags": []
          },
          "execution_count": 34
        }
      ]
    },
    {
      "cell_type": "markdown",
      "metadata": {
        "id": "wf0z59TUC8XB"
      },
      "source": [
        "A variável alvo é muito desbalanceada."
      ]
    },
    {
      "cell_type": "markdown",
      "metadata": {
        "id": "ZUPT0N2COh_U"
      },
      "source": [
        "## Verificando algumas distribuições em relação às classes\r\n",
        "\r\n",
        "\r\n",
        "# v1"
      ]
    },
    {
      "cell_type": "code",
      "metadata": {
        "colab": {
          "base_uri": "https://localhost:8080/",
          "height": 303
        },
        "id": "NF5F2LXdOtbs",
        "outputId": "03b371d9-51b4-4121-9c6a-60240b84e57f"
      },
      "source": [
        "sns.boxplot(data=df, y='v1', x='class')"
      ],
      "execution_count": null,
      "outputs": [
        {
          "output_type": "execute_result",
          "data": {
            "text/plain": [
              "<matplotlib.axes._subplots.AxesSubplot at 0x7fdc189714a8>"
            ]
          },
          "metadata": {
            "tags": []
          },
          "execution_count": 38
        },
        {
          "output_type": "display_data",
          "data": {
            "image/png": "[encoded data removed]",
            "text/plain": [
              "<Figure size 432x288 with 1 Axes>"
            ]
          },
          "metadata": {
            "tags": []
          }
        }
      ]
    },
    {
      "cell_type": "markdown",
      "metadata": {
        "id": "OTYZZ1zcAzfv"
      },
      "source": [
        "## Vendo as correlações"
      ]
    },
    {
      "cell_type": "code",
      "metadata": {
        "colab": {
          "base_uri": "https://localhost:8080/",
          "height": 1000
        },
        "id": "N1QLw6jRA2n3",
        "outputId": "d7738b33-3dc3-4bd1-9434-10e160d8e0c0"
      },
      "source": [
        "dstb.show_correlations(df, 'class')"
      ],
      "execution_count": null,
      "outputs": [
        {
          "output_type": "display_data",
          "data": {
            "image/png": "[encoded data removed]",
            "text/plain": [
              "<Figure size 1368x1080 with 2 Axes>"
            ]
          },
          "metadata": {
            "tags": []
          }
        },
        {
          "output_type": "stream",
          "text": [
            "--------------------------------------------------------------------------------------------------------------------------------------------------------------------------------------------------------\n",
            "Lista ordenada das correlações das features com class\n",
            "v15       0.005310\n",
            "amount    0.010767\n",
            "v28       0.012064\n",
            "v21       0.013311\n",
            "v22       0.020873\n",
            "v13       0.023561\n",
            "v23       0.025369\n",
            "v19       0.027781\n",
            "time      0.031725\n",
            "v26       0.033969\n",
            "v25       0.036898\n",
            "v20       0.049996\n",
            "v24       0.052534\n",
            "v8        0.056390\n",
            "v6        0.109600\n",
            "v27       0.128892\n",
            "v5        0.149273\n",
            "v1        0.180585\n",
            "v18       0.198972\n",
            "v9        0.214597\n",
            "v2        0.216770\n",
            "v4        0.287764\n",
            "v11       0.335828\n",
            "v7        0.354060\n",
            "v16       0.361669\n",
            "v12       0.389716\n",
            "v10       0.392933\n",
            "v17       0.449732\n",
            "v3        0.464680\n",
            "v14       0.536215\n",
            "class     1.000000\n",
            "Name: class, dtype: float64\n"
          ],
          "name": "stdout"
        },
        {
          "output_type": "execute_result",
          "data": {
            "text/plain": [
              "['v15']"
            ]
          },
          "metadata": {
            "tags": []
          },
          "execution_count": 16
        }
      ]
    },
    {
      "cell_type": "markdown",
      "metadata": {
        "id": "6ZUL6QmwHMFL"
      },
      "source": [
        "## Definindo as variáveis que serão usadas nos modelos"
      ]
    },
    {
      "cell_type": "code",
      "metadata": {
        "id": "9C-XGEf4HPUW"
      },
      "source": [
        "i_folks = 10 # Número de Cross-Validations\r\n",
        "i_seed = 20111974 # semente por questões de reproducibilidade\r\n",
        "f_test_size = 0.3 # Proporção do dataframe de validação (outros valores poderiam ser 0.15, 0.20 ou 0.25)"
      ],
      "execution_count": null,
      "outputs": []
    },
    {
      "cell_type": "markdown",
      "metadata": {
        "id": "fB0nRWQTENOC"
      },
      "source": [
        "## Separando o dataset em teste e treinamento"
      ]
    },
    {
      "cell_type": "code",
      "metadata": {
        "id": "VEy90JqOEM4U"
      },
      "source": [
        "X = df.drop('class', axis=1)\r\n",
        "Y = df['class']\r\n",
        "x_train, x_test, y_train, y_test = train_test_split(X, Y, test_size=f_test_size, random_state=i_seed)"
      ],
      "execution_count": null,
      "outputs": []
    },
    {
      "cell_type": "markdown",
      "metadata": {
        "id": "DVJ_gBmkF4wD"
      },
      "source": [
        "## Criando o modelo baseline"
      ]
    },
    {
      "cell_type": "code",
      "metadata": {
        "id": "A8XLYwnUF-1D"
      },
      "source": [
        "DT_bl = DecisionTreeClassifier(max_depth=5, min_samples_split=2, random_state=i_seed)"
      ],
      "execution_count": null,
      "outputs": []
    },
    {
      "cell_type": "code",
      "metadata": {
        "colab": {
          "base_uri": "https://localhost:8080/"
        },
        "id": "uvXjREzwSe52",
        "outputId": "c6bdad1a-7c3c-4422-f014-30e8a9fca3ce"
      },
      "source": [
        "DT_bl.fit(x_train, y_train)\r\n",
        "dstb.do_cross_val_score(DT_bl, x_train, y_train, CV=i_cv)"
      ],
      "execution_count": null,
      "outputs": [
        {
          "output_type": "stream",
          "text": [
            "Média das Acurácias calculadas pelo CV....: 99.9\n",
            "std médio das Acurácias calculadas pelo CV: 0.09\n"
          ],
          "name": "stdout"
        },
        {
          "output_type": "execute_result",
          "data": {
            "text/plain": [
              "array([1.        , 0.99888765, 0.99777531, 0.99777531, 1.        ,\n",
              "       0.99888765, 1.        , 0.99888765, 0.99777283, 1.        ])"
            ]
          },
          "metadata": {
            "tags": []
          },
          "execution_count": 40
        }
      ]
    },
    {
      "cell_type": "markdown",
      "metadata": {
        "id": "8eYNGGQkS0Px"
      },
      "source": [
        "## Montando a matriz de confusão"
      ]
    },
    {
      "cell_type": "code",
      "metadata": {
        "colab": {
          "base_uri": "https://localhost:8080/",
          "height": 558
        },
        "id": "SfljTX0gS4rL",
        "outputId": "390c3586-6595-4c68-d7b9-21f4c08c247e"
      },
      "source": [
        "y_pred = DT_bl.predict(x_test)\r\n",
        "cf_matrix = met.confusion_matrix(y_test, y_pred)\r\n",
        "cf_labels = ['True_Negative', 'False_Positive', 'False_Negative', 'True_Positive']\r\n",
        "cf_categories = ['Zero', 'One']\r\n",
        "dstb.mostra_confusion_matrix(cf_matrix, group_names=cf_labels, categories=cf_categories)"
      ],
      "execution_count": null,
      "outputs": [
        {
          "output_type": "display_data",
          "data": {
            "image/png": "[encoded data removed]",
            "text/plain": [
              "<Figure size 576x576 with 2 Axes>"
            ]
          },
          "metadata": {
            "tags": []
          }
        }
      ]
    }
  ]
}