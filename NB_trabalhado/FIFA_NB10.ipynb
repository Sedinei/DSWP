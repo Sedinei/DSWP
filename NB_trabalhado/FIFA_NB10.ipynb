{
  "nbformat": 4,
  "nbformat_minor": 0,
  "metadata": {
    "colab": {
      "name": "FIFA - NB10.ipynb",
      "provenance": [],
      "authorship_tag": "ABX9TyN5E82RfnLjb3uD0JW4W45/",
      "include_colab_link": true
    },
    "kernelspec": {
      "name": "python3",
      "display_name": "Python 3"
    }
  },
  "cells": [
    {
      "cell_type": "markdown",
      "metadata": {
        "id": "view-in-github",
        "colab_type": "text"
      },
      "source": [
        "<a href=\"https://colab.research.google.com/github/Sedinei/DSWP/blob/master/NB_trabalhado/FIFA_NB10.ipynb\" target=\"_parent\"><img src=\"https://colab.research.google.com/assets/colab-badge.svg\" alt=\"Open In Colab\"/></a>"
      ]
    },
    {
      "cell_type": "markdown",
      "metadata": {
        "id": "JgLfnwmn87_k"
      },
      "source": [
        "## Importes e configurações"
      ]
    },
    {
      "cell_type": "code",
      "metadata": {
        "id": "S5f_lDwh8aK8"
      },
      "source": [
        "import pandas as pd\n",
        "import numpy as np\n",
        "import seaborn as sns\n",
        "import matplotlib.pyplot as plt"
      ],
      "execution_count": 3,
      "outputs": []
    },
    {
      "cell_type": "code",
      "metadata": {
        "id": "po0Kn7r99Giu"
      },
      "source": [
        "# Ajusta as configurações do Pandas e do Seaborn\n",
        "d_configuracao = {\n",
        "    'display.max_columns': 1000,\n",
        "    'display.expand_frame_repr': True,\n",
        "    'display.max_rows': 10,\n",
        "    'display.precision': 2,\n",
        "    'display.show_dimensions': True\n",
        "                  }\n",
        "\n",
        "for op, value in d_configuracao.items():\n",
        "    pd.set_option(op, value)\n",
        "\n",
        "sns.set_theme(style='dark')"
      ],
      "execution_count": 4,
      "outputs": []
    },
    {
      "cell_type": "markdown",
      "metadata": {
        "id": "jNW9PO9y9L84"
      },
      "source": [
        "## Significado da variável 'Position'\n",
        "* GK = Goalkeeper – Goleiro.\n",
        "* RB = Right Back – Zagueiro Direito.\n",
        "* CB = Central Back – Zagueiro Central.\n",
        "* LB = Left Back – Zagueiro Esquerdo.\n",
        "* SW = Sweeper – Líbero.\n",
        "* RWB = Right Wing Back – Lateral Direito.\n",
        "* LWB = Left Wing back – Lateral Esquerdo.\n",
        "* CDM = Central Defensive Midfielder – Meio Campo Defensivo / Volante.\n",
        "* CM = Central Midfielder – Meia Central.\n",
        "* CAM = Center Attacking Middlefielder – Meio Campo Ofensivo / Armador.\n",
        "* OM = Offensive Midfielder – Meia Ofensivo.\n",
        "* LOM = Left Offensive Midfielder – Meia Esquerda Ofensivo.\n",
        "* ROM = Right Offensive Midfielder – Meia Direita Ofensivo.\n",
        "* LM = Left Midfielder – Meia Esquerda.\n",
        "* RM = Right Midfielder – Meia Direita.\n",
        "* LWM = Left Wing Midfielder – Meio Ala Esquerdo.\n",
        "* RWM = Right Wing Midfielder – Meio Ala Direito.\n",
        "* RW = Right Winger – Ala Direito.\n",
        "* LW = Left Winger – Ala Esquerto.\n",
        "* LF = Left Forward – Atacante Esquerdo.\n",
        "* RF = Right Forward – Atacante Direito.\n",
        "* ST = Striker – Atacante.\n",
        "* CF = Center Forward – Centro Avante.\n",
        "* RS = Right Striker – Atacante Direito.\n",
        "* LS = Left Striker – Atacante Esquerdo."
      ]
    },
    {
      "cell_type": "markdown",
      "metadata": {
        "id": "vab4zYno9juf"
      },
      "source": [
        "___\n",
        "## 1. Carregue o arquivo FIFA.csv (está na área de Dataframes do curso);"
      ]
    },
    {
      "cell_type": "markdown",
      "metadata": {
        "id": "jvTaYVfG9r1h"
      },
      "source": [
        "___\n",
        "## 2. Que colunas podem previamente ser eliminadas da análise? Porque identificar o que pode ser eliminado é importante?"
      ]
    },
    {
      "cell_type": "markdown",
      "metadata": {
        "id": "AzEBFmQ89x5v"
      },
      "source": [
        "___\n",
        "## 3. Qual o dtype de cada variável/atributo do dataframe?"
      ]
    },
    {
      "cell_type": "markdown",
      "metadata": {
        "id": "l6Nnm_lC91gz"
      },
      "source": [
        "___\n",
        "## 4. Se alguma variável/atributo é do tipo string (object) e supostamente deveria ser numérica, como alteramos o tipo?"
      ]
    },
    {
      "cell_type": "markdown",
      "metadata": {
        "id": "rJOerYv-94x7"
      },
      "source": [
        "___\n",
        "## 5. Normalize os nomes das colunas, ou seja, renomeie o nome das colunas para minúsculo;"
      ]
    },
    {
      "cell_type": "markdown",
      "metadata": {
        "id": "OM8CVFum97lM"
      },
      "source": [
        "___\n",
        "## 6. Há Missing values nos dados? Se sim, o qual sua proposta (proposta do grupo) para tratar estes Missing values?"
      ]
    },
    {
      "cell_type": "markdown",
      "metadata": {
        "id": "E9FYXy2h9-8G"
      },
      "source": [
        "___\n",
        "## 7. Qual a distribuição do número de jogadores por países? Apresente uma tabela com a distribuição."
      ]
    },
    {
      "cell_type": "markdown",
      "metadata": {
        "id": "9pvHVOru-DL1"
      },
      "source": [
        "___\n",
        "## 8. Qual a média de idade dos jogadores por países (variável/atributo 'Nacionality');"
      ]
    },
    {
      "cell_type": "markdown",
      "metadata": {
        "id": "xkl1gDW8-GIo"
      },
      "source": [
        "___\n",
        "## 9. Qual a número de jogadores por idade?"
      ]
    },
    {
      "cell_type": "markdown",
      "metadata": {
        "id": "WlqMNy0v-JXk"
      },
      "source": [
        "___\n",
        "## 10. Quantos jogadores possuem cada clube?"
      ]
    },
    {
      "cell_type": "markdown",
      "metadata": {
        "id": "SstZU3vU-M7r"
      },
      "source": [
        "___\n",
        "## 11. Qual a média de idade por clube?"
      ]
    },
    {
      "cell_type": "markdown",
      "metadata": {
        "id": "1EkvWlvg-QHQ"
      },
      "source": [
        "___\n",
        "## 12. Qual a média de salário por país?"
      ]
    },
    {
      "cell_type": "markdown",
      "metadata": {
        "id": "eQNPQPWA-UNM"
      },
      "source": [
        "___\n",
        "## 13. Qual a média de salário por clube?"
      ]
    },
    {
      "cell_type": "markdown",
      "metadata": {
        "id": "s0rUzJ6d-XO1"
      },
      "source": [
        "___\n",
        "## 14. Qual a média de salário por idade?"
      ]
    },
    {
      "cell_type": "markdown",
      "metadata": {
        "id": "7MdhLMvb-aHT"
      },
      "source": [
        "___\n",
        "## 15. Quanto cada clube gasta com pagamento de salários?"
      ]
    },
    {
      "cell_type": "markdown",
      "metadata": {
        "id": "mrx39i44-dFi"
      },
      "source": [
        "___\n",
        "## 6. Quais são os insight (o que você consegue descobrir) em relação à variável 'Potential' (mede o potencial dos jogadores)?"
      ]
    },
    {
      "cell_type": "markdown",
      "metadata": {
        "id": "5GSlNlOd-gi9"
      },
      "source": [
        "___\n",
        "## 17. Quais os insights em relação à variável overall (nota média do atleta) por idade, clube e país?"
      ]
    },
    {
      "cell_type": "markdown",
      "metadata": {
        "id": "1puVsoDD-oG1"
      },
      "source": [
        "___\n",
        "## 18. Quais são os melhores clubes se levarmos em consideração as variáveis Potential e Overall?"
      ]
    },
    {
      "cell_type": "markdown",
      "metadata": {
        "id": "TsgEwhYk-rvt"
      },
      "source": [
        "___\n",
        "## 19. Apresente o ranking dos goleiros (use a variável/atributo 'Preferred Positions') por Potencial, Overall. Estamos à procura de 'GK'."
      ]
    },
    {
      "cell_type": "markdown",
      "metadata": {
        "id": "DQ5a7Mpt-ukD"
      },
      "source": [
        "___\n",
        "## 20. Quem são os jogadores mais rápidos (variável/atributo 'Sprint speed'=?"
      ]
    },
    {
      "cell_type": "markdown",
      "metadata": {
        "id": "VX0z3xDb-xl0"
      },
      "source": [
        "___\n",
        "## 21. Quem são os 5 melhores jogadores em termos de chute (força para chutar) (use a variável/atributo 'Shot power')?"
      ]
    },
    {
      "cell_type": "markdown",
      "metadata": {
        "id": "Gsov3GS1-0ny"
      },
      "source": [
        "___\n",
        "## 22. Quem são os outliers em termos de salário?"
      ]
    },
    {
      "cell_type": "markdown",
      "metadata": {
        "id": "oBCr9O4N-3a_"
      },
      "source": [
        "___\n",
        "## 23. Quem são os outliers em termos de potência no chute?"
      ]
    },
    {
      "cell_type": "markdown",
      "metadata": {
        "id": "jZZKe0LZ-55T"
      },
      "source": [
        "___\n",
        "## 24. Qual a correlação e a interpretação entre as variáveis 'value' e as demais variáveis numéricas do dataframe?"
      ]
    },
    {
      "cell_type": "markdown",
      "metadata": {
        "id": "vsO8v7yn-88i"
      },
      "source": [
        "___\n",
        "## 25. Construa variáveis dummy para as colunas preferred_foot e work_rate. preferred_foot_left;"
      ]
    }
  ]
}