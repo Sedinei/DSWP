{
  "nbformat": 4,
  "nbformat_minor": 0,
  "metadata": {
    "colab": {
      "name": "Titanic - NB10.ipynb",
      "provenance": [],
      "authorship_tag": "ABX9TyNlogPVQAdOKM5+3BhZhPvA",
      "include_colab_link": true
    },
    "kernelspec": {
      "name": "python3",
      "display_name": "Python 3"
    }
  },
  "cells": [
    {
      "cell_type": "markdown",
      "metadata": {
        "id": "view-in-github",
        "colab_type": "text"
      },
      "source": [
        "<a href=\"https://colab.research.google.com/github/Sedinei/DSWP/blob/master/NB_trabalhado/Titanic_NB10.ipynb\" target=\"_parent\"><img src=\"https://colab.research.google.com/assets/colab-badge.svg\" alt=\"Open In Colab\"/></a>"
      ]
    },
    {
      "cell_type": "markdown",
      "metadata": {
        "id": "s-gz29xKesdO"
      },
      "source": [
        "## Dicionário de dados do dataframe df_Titanic:\n",
        "* PassengerID: ID do passageiro;\n",
        "* survived: Indicador, sendo 1= Passageiro sobreviveu e 0= Passageiro morreu;\n",
        "* Pclass: Classe;\n",
        "* Age: Idade do Passageiro;\n",
        "* SibSp: Número de parentes a bordo (esposa, irmãos, pais e etc);\n",
        "* Parch: Número de pais/crianças a bordo;\n",
        "* Fare: Valor pago pelo Passageiro;\n",
        "* Cabin: Cabine do Passageiro;\n",
        "* Embarked: A porta pelo qual o Passageiro embarcou.\n",
        "* Name: Nome do Passageiro;\n",
        "* sex: sexo do Passageiro."
      ]
    },
    {
      "cell_type": "code",
      "metadata": {
        "id": "n8e9aphab_oe"
      },
      "source": [
        "# carregar a library Pandas\n",
        "import pandas as pd\n",
        "import numpy as np"
      ],
      "execution_count": 48,
      "outputs": []
    },
    {
      "cell_type": "code",
      "metadata": {
        "id": "LmpFOX3Fg-mO"
      },
      "source": [
        "# Ajusta as configurações do Pandas\n",
        "d_configuracao = {\n",
        "    'display.max_columns': 1000,\n",
        "    'display.expand_frame_repr': True,\n",
        "    'display.max_rows': 10,\n",
        "    'display.precision': 2,\n",
        "    'display.show_dimensions': True\n",
        "                  }\n",
        "\n",
        "for op, value in d_configuracao.items():\n",
        "    pd.set_option(op, value)"
      ],
      "execution_count": 2,
      "outputs": []
    },
    {
      "cell_type": "markdown",
      "metadata": {
        "id": "Tgdoepvte51Q"
      },
      "source": [
        "___\n",
        "## Exercício 1\n",
        "* Ler o dataframe Titanic.csv;\n",
        "* Definir 'PassengerId' como índice/chave da tabela através do comando index_col= 'PassengerId'."
      ]
    },
    {
      "cell_type": "code",
      "metadata": {
        "id": "1R9YoFJ02TR7",
        "outputId": "207aba26-f9ff-4d0d-f2d4-1b7e2ecfc209",
        "colab": {
          "base_uri": "https://localhost:8080/",
          "height": 366
        }
      },
      "source": [
        "url = 'https://raw.githubusercontent.com/Sedinei/DSWP/master/Dataframes/Titanic_With_MV.csv'\n",
        "df_Titanic = pd.read_csv(url, index_col = 'PassengerId')\n",
        "df_Titanic.head()"
      ],
      "execution_count": 3,
      "outputs": [
        {
          "output_type": "execute_result",
          "data": {
            "text/html": [
              "<div>\n",
              "<style scoped>\n",
              "    .dataframe tbody tr th:only-of-type {\n",
              "        vertical-align: middle;\n",
              "    }\n",
              "\n",
              "    .dataframe tbody tr th {\n",
              "        vertical-align: top;\n",
              "    }\n",
              "\n",
              "    .dataframe thead th {\n",
              "        text-align: right;\n",
              "    }\n",
              "</style>\n",
              "<table border=\"1\" class=\"dataframe\">\n",
              "  <thead>\n",
              "    <tr style=\"text-align: right;\">\n",
              "      <th></th>\n",
              "      <th>Survived</th>\n",
              "      <th>Pclass</th>\n",
              "      <th>Name</th>\n",
              "      <th>Sex</th>\n",
              "      <th>Age</th>\n",
              "      <th>SibSp</th>\n",
              "      <th>Parch</th>\n",
              "      <th>Ticket</th>\n",
              "      <th>Fare</th>\n",
              "      <th>Cabin</th>\n",
              "      <th>Embarked</th>\n",
              "    </tr>\n",
              "    <tr>\n",
              "      <th>PassengerId</th>\n",
              "      <th></th>\n",
              "      <th></th>\n",
              "      <th></th>\n",
              "      <th></th>\n",
              "      <th></th>\n",
              "      <th></th>\n",
              "      <th></th>\n",
              "      <th></th>\n",
              "      <th></th>\n",
              "      <th></th>\n",
              "      <th></th>\n",
              "    </tr>\n",
              "  </thead>\n",
              "  <tbody>\n",
              "    <tr>\n",
              "      <th>1</th>\n",
              "      <td>0</td>\n",
              "      <td>3</td>\n",
              "      <td>Braund, Mr. Owen Harris</td>\n",
              "      <td>male</td>\n",
              "      <td>22.0</td>\n",
              "      <td>1</td>\n",
              "      <td>0</td>\n",
              "      <td>A/5 21171</td>\n",
              "      <td>7.25</td>\n",
              "      <td>NaN</td>\n",
              "      <td>S</td>\n",
              "    </tr>\n",
              "    <tr>\n",
              "      <th>2</th>\n",
              "      <td>1</td>\n",
              "      <td>1</td>\n",
              "      <td>Cumings, Mrs. John Bradley (Florence Briggs Th...</td>\n",
              "      <td>female</td>\n",
              "      <td>38.0</td>\n",
              "      <td>1</td>\n",
              "      <td>0</td>\n",
              "      <td>PC 17599</td>\n",
              "      <td>71.28</td>\n",
              "      <td>C85</td>\n",
              "      <td>C</td>\n",
              "    </tr>\n",
              "    <tr>\n",
              "      <th>3</th>\n",
              "      <td>1</td>\n",
              "      <td>3</td>\n",
              "      <td>Heikkinen, Miss. Laina</td>\n",
              "      <td>female</td>\n",
              "      <td>26.0</td>\n",
              "      <td>0</td>\n",
              "      <td>0</td>\n",
              "      <td>STON/O2. 3101282</td>\n",
              "      <td>7.92</td>\n",
              "      <td>NaN</td>\n",
              "      <td>S</td>\n",
              "    </tr>\n",
              "    <tr>\n",
              "      <th>4</th>\n",
              "      <td>1</td>\n",
              "      <td>1</td>\n",
              "      <td>Futrelle, Mrs. Jacques Heath (Lily May Peel)</td>\n",
              "      <td>female</td>\n",
              "      <td>35.0</td>\n",
              "      <td>1</td>\n",
              "      <td>0</td>\n",
              "      <td>113803</td>\n",
              "      <td>53.10</td>\n",
              "      <td>C123</td>\n",
              "      <td>S</td>\n",
              "    </tr>\n",
              "    <tr>\n",
              "      <th>5</th>\n",
              "      <td>0</td>\n",
              "      <td>3</td>\n",
              "      <td>Allen, Mr. William Henry</td>\n",
              "      <td>male</td>\n",
              "      <td>35.0</td>\n",
              "      <td>0</td>\n",
              "      <td>0</td>\n",
              "      <td>373450</td>\n",
              "      <td>8.05</td>\n",
              "      <td>NaN</td>\n",
              "      <td>S</td>\n",
              "    </tr>\n",
              "  </tbody>\n",
              "</table>\n",
              "<p>5 rows × 11 columns</p>\n",
              "</div>"
            ],
            "text/plain": [
              "             Survived  Pclass  \\\n",
              "PassengerId                     \n",
              "1                   0       3   \n",
              "2                   1       1   \n",
              "3                   1       3   \n",
              "4                   1       1   \n",
              "5                   0       3   \n",
              "\n",
              "                                                          Name     Sex   Age  \\\n",
              "PassengerId                                                                    \n",
              "1                                      Braund, Mr. Owen Harris    male  22.0   \n",
              "2            Cumings, Mrs. John Bradley (Florence Briggs Th...  female  38.0   \n",
              "3                                       Heikkinen, Miss. Laina  female  26.0   \n",
              "4                 Futrelle, Mrs. Jacques Heath (Lily May Peel)  female  35.0   \n",
              "5                                     Allen, Mr. William Henry    male  35.0   \n",
              "\n",
              "             SibSp  Parch            Ticket   Fare Cabin Embarked  \n",
              "PassengerId                                                        \n",
              "1                1      0         A/5 21171   7.25   NaN        S  \n",
              "2                1      0          PC 17599  71.28   C85        C  \n",
              "3                0      0  STON/O2. 3101282   7.92   NaN        S  \n",
              "4                1      0            113803  53.10  C123        S  \n",
              "5                0      0            373450   8.05   NaN        S  \n",
              "\n",
              "[5 rows x 11 columns]"
            ]
          },
          "metadata": {
            "tags": []
          },
          "execution_count": 3
        }
      ]
    },
    {
      "cell_type": "markdown",
      "metadata": {
        "id": "GgWJvH10EcjZ"
      },
      "source": [
        "___\n",
        "## Exercício 2\n",
        "* Passar os nomes das colunas e os dados para minúsculas."
      ]
    },
    {
      "cell_type": "code",
      "metadata": {
        "id": "nKbsESvjedEt",
        "outputId": "cf7f4fc5-d611-42f5-a59a-a2ff45fc7071",
        "colab": {
          "base_uri": "https://localhost:8080/",
          "height": 349
        }
      },
      "source": [
        "# Deixando os nomes das colunas em minúsculas e os dados do DataFrame\n",
        "df_Titanic.columns = [col.lower() for col in df_Titanic.columns]\n",
        "# Altera o nome do índice\n",
        "indice = df_Titanic.index\n",
        "indice.name = indice.name.lower()\n",
        "df_Titanic.index = indice\n",
        "df_Titanic = df_Titanic.applymap(lambda x: x.lower() if type(x) == str else x)\n",
        "df_Titanic.head()"
      ],
      "execution_count": 4,
      "outputs": [
        {
          "output_type": "execute_result",
          "data": {
            "text/html": [
              "<div>\n",
              "<style scoped>\n",
              "    .dataframe tbody tr th:only-of-type {\n",
              "        vertical-align: middle;\n",
              "    }\n",
              "\n",
              "    .dataframe tbody tr th {\n",
              "        vertical-align: top;\n",
              "    }\n",
              "\n",
              "    .dataframe thead th {\n",
              "        text-align: right;\n",
              "    }\n",
              "</style>\n",
              "<table border=\"1\" class=\"dataframe\">\n",
              "  <thead>\n",
              "    <tr style=\"text-align: right;\">\n",
              "      <th></th>\n",
              "      <th>survived</th>\n",
              "      <th>pclass</th>\n",
              "      <th>name</th>\n",
              "      <th>sex</th>\n",
              "      <th>age</th>\n",
              "      <th>sibsp</th>\n",
              "      <th>parch</th>\n",
              "      <th>ticket</th>\n",
              "      <th>fare</th>\n",
              "      <th>cabin</th>\n",
              "      <th>embarked</th>\n",
              "    </tr>\n",
              "    <tr>\n",
              "      <th>passengerid</th>\n",
              "      <th></th>\n",
              "      <th></th>\n",
              "      <th></th>\n",
              "      <th></th>\n",
              "      <th></th>\n",
              "      <th></th>\n",
              "      <th></th>\n",
              "      <th></th>\n",
              "      <th></th>\n",
              "      <th></th>\n",
              "      <th></th>\n",
              "    </tr>\n",
              "  </thead>\n",
              "  <tbody>\n",
              "    <tr>\n",
              "      <th>1</th>\n",
              "      <td>0</td>\n",
              "      <td>3</td>\n",
              "      <td>braund, mr. owen harris</td>\n",
              "      <td>male</td>\n",
              "      <td>22.0</td>\n",
              "      <td>1</td>\n",
              "      <td>0</td>\n",
              "      <td>a/5 21171</td>\n",
              "      <td>7.25</td>\n",
              "      <td>NaN</td>\n",
              "      <td>s</td>\n",
              "    </tr>\n",
              "    <tr>\n",
              "      <th>2</th>\n",
              "      <td>1</td>\n",
              "      <td>1</td>\n",
              "      <td>cumings, mrs. john bradley (florence briggs th...</td>\n",
              "      <td>female</td>\n",
              "      <td>38.0</td>\n",
              "      <td>1</td>\n",
              "      <td>0</td>\n",
              "      <td>pc 17599</td>\n",
              "      <td>71.28</td>\n",
              "      <td>c85</td>\n",
              "      <td>c</td>\n",
              "    </tr>\n",
              "    <tr>\n",
              "      <th>3</th>\n",
              "      <td>1</td>\n",
              "      <td>3</td>\n",
              "      <td>heikkinen, miss. laina</td>\n",
              "      <td>female</td>\n",
              "      <td>26.0</td>\n",
              "      <td>0</td>\n",
              "      <td>0</td>\n",
              "      <td>ston/o2. 3101282</td>\n",
              "      <td>7.92</td>\n",
              "      <td>NaN</td>\n",
              "      <td>s</td>\n",
              "    </tr>\n",
              "    <tr>\n",
              "      <th>4</th>\n",
              "      <td>1</td>\n",
              "      <td>1</td>\n",
              "      <td>futrelle, mrs. jacques heath (lily may peel)</td>\n",
              "      <td>female</td>\n",
              "      <td>35.0</td>\n",
              "      <td>1</td>\n",
              "      <td>0</td>\n",
              "      <td>113803</td>\n",
              "      <td>53.10</td>\n",
              "      <td>c123</td>\n",
              "      <td>s</td>\n",
              "    </tr>\n",
              "    <tr>\n",
              "      <th>5</th>\n",
              "      <td>0</td>\n",
              "      <td>3</td>\n",
              "      <td>allen, mr. william henry</td>\n",
              "      <td>male</td>\n",
              "      <td>35.0</td>\n",
              "      <td>0</td>\n",
              "      <td>0</td>\n",
              "      <td>373450</td>\n",
              "      <td>8.05</td>\n",
              "      <td>NaN</td>\n",
              "      <td>s</td>\n",
              "    </tr>\n",
              "  </tbody>\n",
              "</table>\n",
              "<p>5 rows × 11 columns</p>\n",
              "</div>"
            ],
            "text/plain": [
              "             survived  pclass  \\\n",
              "passengerid                     \n",
              "1                   0       3   \n",
              "2                   1       1   \n",
              "3                   1       3   \n",
              "4                   1       1   \n",
              "5                   0       3   \n",
              "\n",
              "                                                          name     sex   age  \\\n",
              "passengerid                                                                    \n",
              "1                                      braund, mr. owen harris    male  22.0   \n",
              "2            cumings, mrs. john bradley (florence briggs th...  female  38.0   \n",
              "3                                       heikkinen, miss. laina  female  26.0   \n",
              "4                 futrelle, mrs. jacques heath (lily may peel)  female  35.0   \n",
              "5                                     allen, mr. william henry    male  35.0   \n",
              "\n",
              "             sibsp  parch            ticket   fare cabin embarked  \n",
              "passengerid                                                        \n",
              "1                1      0         a/5 21171   7.25   NaN        s  \n",
              "2                1      0          pc 17599  71.28   c85        c  \n",
              "3                0      0  ston/o2. 3101282   7.92   NaN        s  \n",
              "4                1      0            113803  53.10  c123        s  \n",
              "5                0      0            373450   8.05   NaN        s  \n",
              "\n",
              "[5 rows x 11 columns]"
            ]
          },
          "metadata": {
            "tags": []
          },
          "execution_count": 4
        }
      ]
    },
    {
      "cell_type": "markdown",
      "metadata": {
        "id": "EIdltTC-t_lF"
      },
      "source": [
        "___\n",
        "## Exercício 3\n",
        "* Identifique e delete os atributos do dataframe df_Titanic que podem ser excluídos inicialmente no início da análise de dados."
      ]
    },
    {
      "cell_type": "code",
      "metadata": {
        "id": "MztD3pmllOvr",
        "outputId": "dc842081-56d4-45db-8ad4-5e0e6a75f7ee",
        "colab": {
          "base_uri": "https://localhost:8080/",
          "height": 262
        }
      },
      "source": [
        "# Os atributos que provavelmente não trariam nenhuma informação útil seriam ticket e cabin\n",
        "df_Titanic.drop(columns=['ticket', 'cabin'], inplace=True)\n",
        "df_Titanic.head()"
      ],
      "execution_count": 7,
      "outputs": [
        {
          "output_type": "execute_result",
          "data": {
            "text/html": [
              "<div>\n",
              "<style scoped>\n",
              "    .dataframe tbody tr th:only-of-type {\n",
              "        vertical-align: middle;\n",
              "    }\n",
              "\n",
              "    .dataframe tbody tr th {\n",
              "        vertical-align: top;\n",
              "    }\n",
              "\n",
              "    .dataframe thead th {\n",
              "        text-align: right;\n",
              "    }\n",
              "</style>\n",
              "<table border=\"1\" class=\"dataframe\">\n",
              "  <thead>\n",
              "    <tr style=\"text-align: right;\">\n",
              "      <th></th>\n",
              "      <th>survived</th>\n",
              "      <th>pclass</th>\n",
              "      <th>name</th>\n",
              "      <th>sex</th>\n",
              "      <th>age</th>\n",
              "      <th>sibsp</th>\n",
              "      <th>parch</th>\n",
              "      <th>fare</th>\n",
              "      <th>embarked</th>\n",
              "    </tr>\n",
              "    <tr>\n",
              "      <th>passengerid</th>\n",
              "      <th></th>\n",
              "      <th></th>\n",
              "      <th></th>\n",
              "      <th></th>\n",
              "      <th></th>\n",
              "      <th></th>\n",
              "      <th></th>\n",
              "      <th></th>\n",
              "      <th></th>\n",
              "    </tr>\n",
              "  </thead>\n",
              "  <tbody>\n",
              "    <tr>\n",
              "      <th>1</th>\n",
              "      <td>0</td>\n",
              "      <td>3</td>\n",
              "      <td>braund, mr. owen harris</td>\n",
              "      <td>male</td>\n",
              "      <td>22.0</td>\n",
              "      <td>1</td>\n",
              "      <td>0</td>\n",
              "      <td>7.25</td>\n",
              "      <td>s</td>\n",
              "    </tr>\n",
              "    <tr>\n",
              "      <th>2</th>\n",
              "      <td>1</td>\n",
              "      <td>1</td>\n",
              "      <td>cumings, mrs. john bradley (florence briggs th...</td>\n",
              "      <td>female</td>\n",
              "      <td>38.0</td>\n",
              "      <td>1</td>\n",
              "      <td>0</td>\n",
              "      <td>71.28</td>\n",
              "      <td>c</td>\n",
              "    </tr>\n",
              "    <tr>\n",
              "      <th>3</th>\n",
              "      <td>1</td>\n",
              "      <td>3</td>\n",
              "      <td>heikkinen, miss. laina</td>\n",
              "      <td>female</td>\n",
              "      <td>26.0</td>\n",
              "      <td>0</td>\n",
              "      <td>0</td>\n",
              "      <td>7.92</td>\n",
              "      <td>s</td>\n",
              "    </tr>\n",
              "    <tr>\n",
              "      <th>4</th>\n",
              "      <td>1</td>\n",
              "      <td>1</td>\n",
              "      <td>futrelle, mrs. jacques heath (lily may peel)</td>\n",
              "      <td>female</td>\n",
              "      <td>35.0</td>\n",
              "      <td>1</td>\n",
              "      <td>0</td>\n",
              "      <td>53.10</td>\n",
              "      <td>s</td>\n",
              "    </tr>\n",
              "    <tr>\n",
              "      <th>5</th>\n",
              "      <td>0</td>\n",
              "      <td>3</td>\n",
              "      <td>allen, mr. william henry</td>\n",
              "      <td>male</td>\n",
              "      <td>35.0</td>\n",
              "      <td>0</td>\n",
              "      <td>0</td>\n",
              "      <td>8.05</td>\n",
              "      <td>s</td>\n",
              "    </tr>\n",
              "  </tbody>\n",
              "</table>\n",
              "<p>5 rows × 9 columns</p>\n",
              "</div>"
            ],
            "text/plain": [
              "             survived  pclass  \\\n",
              "passengerid                     \n",
              "1                   0       3   \n",
              "2                   1       1   \n",
              "3                   1       3   \n",
              "4                   1       1   \n",
              "5                   0       3   \n",
              "\n",
              "                                                          name     sex   age  \\\n",
              "passengerid                                                                    \n",
              "1                                      braund, mr. owen harris    male  22.0   \n",
              "2            cumings, mrs. john bradley (florence briggs th...  female  38.0   \n",
              "3                                       heikkinen, miss. laina  female  26.0   \n",
              "4                 futrelle, mrs. jacques heath (lily may peel)  female  35.0   \n",
              "5                                     allen, mr. william henry    male  35.0   \n",
              "\n",
              "             sibsp  parch   fare embarked  \n",
              "passengerid                                \n",
              "1                1      0   7.25        s  \n",
              "2                1      0  71.28        c  \n",
              "3                0      0   7.92        s  \n",
              "4                1      0  53.10        s  \n",
              "5                0      0   8.05        s  \n",
              "\n",
              "[5 rows x 9 columns]"
            ]
          },
          "metadata": {
            "tags": []
          },
          "execution_count": 7
        }
      ]
    },
    {
      "cell_type": "markdown",
      "metadata": {
        "id": "bMwPLgWclWBq"
      },
      "source": [
        "___\n",
        "## Exercício 4\n",
        "* Carregue o dataframe Titanic_With_MV.csv e analise o dataframe em busca de inconsistências e Missing Values (NaN)."
      ]
    },
    {
      "cell_type": "code",
      "metadata": {
        "id": "TNuN3hHoGf2a",
        "outputId": "0e6cc47a-759b-41b0-a6fb-42911d95cc25",
        "colab": {
          "base_uri": "https://localhost:8080/"
        }
      },
      "source": [
        "url_Titanic_WMV = 'https://github.com/Sedinei/DSWP/raw/master/Dataframes/Titanic_With_MV.csv'\n",
        "df_Titanic_WMV = pd.read_csv(url_Titanic_WMV, index_col='PassengerId')\n",
        "\n",
        "# Verificando a quantidade de missing values\n",
        "df_Titanic_WMV.info()"
      ],
      "execution_count": 67,
      "outputs": [
        {
          "output_type": "stream",
          "text": [
            "<class 'pandas.core.frame.DataFrame'>\n",
            "Int64Index: 891 entries, 1 to 891\n",
            "Data columns (total 11 columns):\n",
            " #   Column    Non-Null Count  Dtype  \n",
            "---  ------    --------------  -----  \n",
            " 0   Survived  891 non-null    int64  \n",
            " 1   Pclass    891 non-null    int64  \n",
            " 2   Name      891 non-null    object \n",
            " 3   Sex       891 non-null    object \n",
            " 4   Age       714 non-null    float64\n",
            " 5   SibSp     891 non-null    int64  \n",
            " 6   Parch     891 non-null    int64  \n",
            " 7   Ticket    891 non-null    object \n",
            " 8   Fare      891 non-null    float64\n",
            " 9   Cabin     204 non-null    object \n",
            " 10  Embarked  889 non-null    object \n",
            "dtypes: float64(2), int64(4), object(5)\n",
            "memory usage: 83.5+ KB\n"
          ],
          "name": "stdout"
        }
      ]
    },
    {
      "cell_type": "markdown",
      "metadata": {
        "id": "w8oLKDE4HagO"
      },
      "source": [
        "Há missing values em 'Age' (177), em 'Cabin' (687) e em 'Embarked' (2)"
      ]
    },
    {
      "cell_type": "code",
      "metadata": {
        "id": "ZMbu7WMIH5Ox",
        "outputId": "8d89bc37-eaa8-4b29-ff5e-5e701ca695d1",
        "colab": {
          "base_uri": "https://localhost:8080/"
        }
      },
      "source": [
        "# Explorando a quantidade de itens únicos\n",
        "for i, v in df_Titanic_WMV.nunique().iteritems():\n",
        "    print(f'{i}:  {v}')"
      ],
      "execution_count": 68,
      "outputs": [
        {
          "output_type": "stream",
          "text": [
            "Survived:  2\n",
            "Pclass:  3\n",
            "Name:  891\n",
            "Sex:  14\n",
            "Age:  88\n",
            "SibSp:  7\n",
            "Parch:  7\n",
            "Ticket:  681\n",
            "Fare:  248\n",
            "Cabin:  147\n",
            "Embarked:  3\n"
          ],
          "name": "stdout"
        }
      ]
    },
    {
      "cell_type": "markdown",
      "metadata": {
        "id": "HznGieyUKKkB"
      },
      "source": [
        "* Deve haver 21 valores de 'Ticket' repetidos;\n",
        "* Deve haver 57 valores de 'Cabin' repetidos;\n",
        "\n",
        "* **Há 14 valores distintos para 'Sex' o que é muito estranho, pois deveria haver apenas 2 valores**"
      ]
    },
    {
      "cell_type": "code",
      "metadata": {
        "id": "7Jdya6w-K6-w",
        "outputId": "94a38629-be66-4e77-8791-0e8f80f780f8",
        "colab": {
          "base_uri": "https://localhost:8080/"
        }
      },
      "source": [
        "# Explorando as quantidade de valores distintos de 'Sex'\n",
        "for i, v in df_Titanic_WMV['Sex'].value_counts().iteritems():\n",
        "    print(f'{i}:  {v}')"
      ],
      "execution_count": 69,
      "outputs": [
        {
          "output_type": "stream",
          "text": [
            "male:  567\n",
            "female:  306\n",
            "m:  4\n",
            "M:  3\n",
            "f:  2\n",
            "W:  1\n",
            "MALE:  1\n",
            "fEMALE:  1\n",
            "F:  1\n",
            "Men:  1\n",
            "Female:  1\n",
            "Woman:  1\n",
            "mALE:  1\n",
            "w:  1\n"
          ],
          "name": "stdout"
        }
      ]
    },
    {
      "cell_type": "code",
      "metadata": {
        "id": "mH09W1lmN8ly",
        "outputId": "a1307aa6-7a6c-469d-a021-231b6eb349b1",
        "colab": {
          "base_uri": "https://localhost:8080/"
        }
      },
      "source": [
        "# Para evitar perda de dados, criei uma nova coluna para trabalhar ('Work_Sex')\n",
        "# Coloquei em 'Work_Sex' os valores de 'Sex' em maiúsculas e peguei o primeiro valor\n",
        "# Espero ter os seguintes valores: M, para masculino, M e W, para feminino\n",
        "df_Titanic_WMV['Work_Sex'] = df_Titanic_WMV['Sex'].str.upper().str.get(0)\n",
        "df_Titanic_WMV['Work_Sex'].value_counts()"
      ],
      "execution_count": 70,
      "outputs": [
        {
          "output_type": "execute_result",
          "data": {
            "text/plain": [
              "M    577\n",
              "F    311\n",
              "W      3\n",
              "Name: Work_Sex, Length: 3, dtype: int64"
            ]
          },
          "metadata": {
            "tags": []
          },
          "execution_count": 70
        }
      ]
    },
    {
      "cell_type": "code",
      "metadata": {
        "id": "R7Mgk7QoSjPN",
        "outputId": "9a6476c8-07c4-42ae-9079-a1e54282a39f",
        "colab": {
          "base_uri": "https://localhost:8080/"
        }
      },
      "source": [
        "# Transformo os valores W em F, deixando igual os M e F\n",
        "# Espero agora só ter M e F\n",
        "df_Titanic_WMV['Work_Sex'] = df_Titanic_WMV['Work_Sex'].map(lambda x: 'F' if x == 'W' else x)\n",
        "df_Titanic_WMV['Work_Sex'].value_counts()"
      ],
      "execution_count": 72,
      "outputs": [
        {
          "output_type": "execute_result",
          "data": {
            "text/plain": [
              "M    577\n",
              "F    314\n",
              "Name: Work_Sex, Length: 2, dtype: int64"
            ]
          },
          "metadata": {
            "tags": []
          },
          "execution_count": 72
        }
      ]
    },
    {
      "cell_type": "code",
      "metadata": {
        "id": "DwZcct4wTlOa",
        "outputId": "cddbb512-9deb-492f-8329-aff03db40c86",
        "colab": {
          "base_uri": "https://localhost:8080/",
          "height": 331
        }
      },
      "source": [
        "# Substituo os valores de 'Sex' pelos de 'Work_Sex' e excluo 'Work_Sex'\n",
        "df_Titanic_WMV['Sex'] = df_Titanic_WMV['Work_Sex']\n",
        "df_Titanic_WMV.drop(columns='Work_Sex', inplace=True)\n",
        "df_Titanic_WMV.head()"
      ],
      "execution_count": 73,
      "outputs": [
        {
          "output_type": "execute_result",
          "data": {
            "text/html": [
              "<div>\n",
              "<style scoped>\n",
              "    .dataframe tbody tr th:only-of-type {\n",
              "        vertical-align: middle;\n",
              "    }\n",
              "\n",
              "    .dataframe tbody tr th {\n",
              "        vertical-align: top;\n",
              "    }\n",
              "\n",
              "    .dataframe thead th {\n",
              "        text-align: right;\n",
              "    }\n",
              "</style>\n",
              "<table border=\"1\" class=\"dataframe\">\n",
              "  <thead>\n",
              "    <tr style=\"text-align: right;\">\n",
              "      <th></th>\n",
              "      <th>Survived</th>\n",
              "      <th>Pclass</th>\n",
              "      <th>Name</th>\n",
              "      <th>Sex</th>\n",
              "      <th>Age</th>\n",
              "      <th>SibSp</th>\n",
              "      <th>Parch</th>\n",
              "      <th>Ticket</th>\n",
              "      <th>Fare</th>\n",
              "      <th>Cabin</th>\n",
              "      <th>Embarked</th>\n",
              "    </tr>\n",
              "    <tr>\n",
              "      <th>PassengerId</th>\n",
              "      <th></th>\n",
              "      <th></th>\n",
              "      <th></th>\n",
              "      <th></th>\n",
              "      <th></th>\n",
              "      <th></th>\n",
              "      <th></th>\n",
              "      <th></th>\n",
              "      <th></th>\n",
              "      <th></th>\n",
              "      <th></th>\n",
              "    </tr>\n",
              "  </thead>\n",
              "  <tbody>\n",
              "    <tr>\n",
              "      <th>1</th>\n",
              "      <td>0</td>\n",
              "      <td>3</td>\n",
              "      <td>Braund, Mr. Owen Harris</td>\n",
              "      <td>M</td>\n",
              "      <td>22.0</td>\n",
              "      <td>1</td>\n",
              "      <td>0</td>\n",
              "      <td>A/5 21171</td>\n",
              "      <td>7.25</td>\n",
              "      <td>NaN</td>\n",
              "      <td>S</td>\n",
              "    </tr>\n",
              "    <tr>\n",
              "      <th>2</th>\n",
              "      <td>1</td>\n",
              "      <td>1</td>\n",
              "      <td>Cumings, Mrs. John Bradley (Florence Briggs Th...</td>\n",
              "      <td>F</td>\n",
              "      <td>38.0</td>\n",
              "      <td>1</td>\n",
              "      <td>0</td>\n",
              "      <td>PC 17599</td>\n",
              "      <td>71.28</td>\n",
              "      <td>C85</td>\n",
              "      <td>C</td>\n",
              "    </tr>\n",
              "    <tr>\n",
              "      <th>3</th>\n",
              "      <td>1</td>\n",
              "      <td>3</td>\n",
              "      <td>Heikkinen, Miss. Laina</td>\n",
              "      <td>F</td>\n",
              "      <td>26.0</td>\n",
              "      <td>0</td>\n",
              "      <td>0</td>\n",
              "      <td>STON/O2. 3101282</td>\n",
              "      <td>7.92</td>\n",
              "      <td>NaN</td>\n",
              "      <td>S</td>\n",
              "    </tr>\n",
              "    <tr>\n",
              "      <th>4</th>\n",
              "      <td>1</td>\n",
              "      <td>1</td>\n",
              "      <td>Futrelle, Mrs. Jacques Heath (Lily May Peel)</td>\n",
              "      <td>F</td>\n",
              "      <td>35.0</td>\n",
              "      <td>1</td>\n",
              "      <td>0</td>\n",
              "      <td>113803</td>\n",
              "      <td>53.10</td>\n",
              "      <td>C123</td>\n",
              "      <td>S</td>\n",
              "    </tr>\n",
              "    <tr>\n",
              "      <th>5</th>\n",
              "      <td>0</td>\n",
              "      <td>3</td>\n",
              "      <td>Allen, Mr. William Henry</td>\n",
              "      <td>M</td>\n",
              "      <td>35.0</td>\n",
              "      <td>0</td>\n",
              "      <td>0</td>\n",
              "      <td>373450</td>\n",
              "      <td>8.05</td>\n",
              "      <td>NaN</td>\n",
              "      <td>S</td>\n",
              "    </tr>\n",
              "  </tbody>\n",
              "</table>\n",
              "<p>5 rows × 11 columns</p>\n",
              "</div>"
            ],
            "text/plain": [
              "             Survived  Pclass  \\\n",
              "PassengerId                     \n",
              "1                   0       3   \n",
              "2                   1       1   \n",
              "3                   1       3   \n",
              "4                   1       1   \n",
              "5                   0       3   \n",
              "\n",
              "                                                          Name Sex   Age  \\\n",
              "PassengerId                                                                \n",
              "1                                      Braund, Mr. Owen Harris   M  22.0   \n",
              "2            Cumings, Mrs. John Bradley (Florence Briggs Th...   F  38.0   \n",
              "3                                       Heikkinen, Miss. Laina   F  26.0   \n",
              "4                 Futrelle, Mrs. Jacques Heath (Lily May Peel)   F  35.0   \n",
              "5                                     Allen, Mr. William Henry   M  35.0   \n",
              "\n",
              "             SibSp  Parch            Ticket   Fare Cabin Embarked  \n",
              "PassengerId                                                        \n",
              "1                1      0         A/5 21171   7.25   NaN        S  \n",
              "2                1      0          PC 17599  71.28   C85        C  \n",
              "3                0      0  STON/O2. 3101282   7.92   NaN        S  \n",
              "4                1      0            113803  53.10  C123        S  \n",
              "5                0      0            373450   8.05   NaN        S  \n",
              "\n",
              "[5 rows x 11 columns]"
            ]
          },
          "metadata": {
            "tags": []
          },
          "execution_count": 73
        }
      ]
    },
    {
      "cell_type": "markdown",
      "metadata": {
        "id": "r6nZG9m-dyQk"
      },
      "source": [
        "___\n",
        "## Exercício 5\n",
        "* Com a coluna 'cabin', construir as colunas:\n",
        "    * deck - Letra de Cabin;\n",
        "    * seat - Número de Cabin"
      ]
    },
    {
      "cell_type": "code",
      "metadata": {
        "id": "zEcWh2jTgdMq",
        "outputId": "d4bdfb91-4e07-4034-8d57-bef5b548fd27",
        "colab": {
          "base_uri": "https://localhost:8080/"
        }
      },
      "source": [
        "# Explorando os valores de 'Cabin'\n",
        "df_Titanic_WMV.loc[df_Titanic_WMV['Cabin'].notna(), 'Cabin'].head(20)"
      ],
      "execution_count": 75,
      "outputs": [
        {
          "output_type": "execute_result",
          "data": {
            "text/plain": [
              "PassengerId\n",
              "2             C85\n",
              "4            C123\n",
              "7             E46\n",
              "11             G6\n",
              "12           C103\n",
              "         ...     \n",
              "76          F G73\n",
              "89    C23 C25 C27\n",
              "93            E31\n",
              "97             A5\n",
              "98        D10 D12\n",
              "Name: Cabin, Length: 20, dtype: object"
            ]
          },
          "metadata": {
            "tags": []
          },
          "execution_count": 75
        }
      ]
    },
    {
      "cell_type": "code",
      "metadata": {
        "id": "c6qL_KgOWgSG"
      },
      "source": [
        "# Criei uma função que quebra o conteúdo de 'Cabin' em decks e seats\n",
        "# Verifiquei que há casos nos quais há mais de uma cabine em 'Cabin'\n",
        "# Há também muitos NaN\n",
        "def deck_seat(cabins):\n",
        "    # Verifica se não é um NaN\n",
        "    if type(cabins) != str: return 'NaN', 'NaN'\n",
        "    decks = []\n",
        "    seats = []\n",
        "    cabins = cabins.split()\n",
        "    for cabin in cabins:\n",
        "        decks.append(cabin[0])\n",
        "        if len(cabin) == 1: seats.append('NaN')\n",
        "        else: seats.append(cabin[1:])\n",
        "    \n",
        "    return ','.join(decks), ','.join(seats)"
      ],
      "execution_count": 76,
      "outputs": []
    },
    {
      "cell_type": "code",
      "metadata": {
        "id": "CZP4rWHkXkES",
        "outputId": "33dd387a-567b-4053-cc72-8492a2366c0a",
        "colab": {
          "base_uri": "https://localhost:8080/",
          "height": 297
        }
      },
      "source": [
        "# Aplica a função em 'Cabin' usando map\n",
        "# Com o zip consiguimos atribuir os múltiplos valores às duas colunas ao mesmo tempo\n",
        "df_Titanic_WMV['Deack'], df_Titanic_WMV['Seat'] = zip(*df_Titanic_WMV['Cabin'].map(deck_seat))\n",
        "df_Titanic_WMV.head()"
      ],
      "execution_count": 78,
      "outputs": [
        {
          "output_type": "execute_result",
          "data": {
            "text/html": [
              "<div>\n",
              "<style scoped>\n",
              "    .dataframe tbody tr th:only-of-type {\n",
              "        vertical-align: middle;\n",
              "    }\n",
              "\n",
              "    .dataframe tbody tr th {\n",
              "        vertical-align: top;\n",
              "    }\n",
              "\n",
              "    .dataframe thead th {\n",
              "        text-align: right;\n",
              "    }\n",
              "</style>\n",
              "<table border=\"1\" class=\"dataframe\">\n",
              "  <thead>\n",
              "    <tr style=\"text-align: right;\">\n",
              "      <th></th>\n",
              "      <th>Survived</th>\n",
              "      <th>Pclass</th>\n",
              "      <th>Name</th>\n",
              "      <th>Sex</th>\n",
              "      <th>Age</th>\n",
              "      <th>SibSp</th>\n",
              "      <th>Parch</th>\n",
              "      <th>Ticket</th>\n",
              "      <th>Fare</th>\n",
              "      <th>Cabin</th>\n",
              "      <th>Embarked</th>\n",
              "      <th>Deack</th>\n",
              "      <th>Seat</th>\n",
              "    </tr>\n",
              "    <tr>\n",
              "      <th>PassengerId</th>\n",
              "      <th></th>\n",
              "      <th></th>\n",
              "      <th></th>\n",
              "      <th></th>\n",
              "      <th></th>\n",
              "      <th></th>\n",
              "      <th></th>\n",
              "      <th></th>\n",
              "      <th></th>\n",
              "      <th></th>\n",
              "      <th></th>\n",
              "      <th></th>\n",
              "      <th></th>\n",
              "    </tr>\n",
              "  </thead>\n",
              "  <tbody>\n",
              "    <tr>\n",
              "      <th>1</th>\n",
              "      <td>0</td>\n",
              "      <td>3</td>\n",
              "      <td>Braund, Mr. Owen Harris</td>\n",
              "      <td>M</td>\n",
              "      <td>22.0</td>\n",
              "      <td>1</td>\n",
              "      <td>0</td>\n",
              "      <td>A/5 21171</td>\n",
              "      <td>7.25</td>\n",
              "      <td>NaN</td>\n",
              "      <td>S</td>\n",
              "      <td>NaN</td>\n",
              "      <td>NaN</td>\n",
              "    </tr>\n",
              "    <tr>\n",
              "      <th>2</th>\n",
              "      <td>1</td>\n",
              "      <td>1</td>\n",
              "      <td>Cumings, Mrs. John Bradley (Florence Briggs Th...</td>\n",
              "      <td>F</td>\n",
              "      <td>38.0</td>\n",
              "      <td>1</td>\n",
              "      <td>0</td>\n",
              "      <td>PC 17599</td>\n",
              "      <td>71.28</td>\n",
              "      <td>C85</td>\n",
              "      <td>C</td>\n",
              "      <td>C</td>\n",
              "      <td>85</td>\n",
              "    </tr>\n",
              "    <tr>\n",
              "      <th>3</th>\n",
              "      <td>1</td>\n",
              "      <td>3</td>\n",
              "      <td>Heikkinen, Miss. Laina</td>\n",
              "      <td>F</td>\n",
              "      <td>26.0</td>\n",
              "      <td>0</td>\n",
              "      <td>0</td>\n",
              "      <td>STON/O2. 3101282</td>\n",
              "      <td>7.92</td>\n",
              "      <td>NaN</td>\n",
              "      <td>S</td>\n",
              "      <td>NaN</td>\n",
              "      <td>NaN</td>\n",
              "    </tr>\n",
              "    <tr>\n",
              "      <th>4</th>\n",
              "      <td>1</td>\n",
              "      <td>1</td>\n",
              "      <td>Futrelle, Mrs. Jacques Heath (Lily May Peel)</td>\n",
              "      <td>F</td>\n",
              "      <td>35.0</td>\n",
              "      <td>1</td>\n",
              "      <td>0</td>\n",
              "      <td>113803</td>\n",
              "      <td>53.10</td>\n",
              "      <td>C123</td>\n",
              "      <td>S</td>\n",
              "      <td>C</td>\n",
              "      <td>123</td>\n",
              "    </tr>\n",
              "    <tr>\n",
              "      <th>5</th>\n",
              "      <td>0</td>\n",
              "      <td>3</td>\n",
              "      <td>Allen, Mr. William Henry</td>\n",
              "      <td>M</td>\n",
              "      <td>35.0</td>\n",
              "      <td>0</td>\n",
              "      <td>0</td>\n",
              "      <td>373450</td>\n",
              "      <td>8.05</td>\n",
              "      <td>NaN</td>\n",
              "      <td>S</td>\n",
              "      <td>NaN</td>\n",
              "      <td>NaN</td>\n",
              "    </tr>\n",
              "  </tbody>\n",
              "</table>\n",
              "<p>5 rows × 13 columns</p>\n",
              "</div>"
            ],
            "text/plain": [
              "             Survived  Pclass  \\\n",
              "PassengerId                     \n",
              "1                   0       3   \n",
              "2                   1       1   \n",
              "3                   1       3   \n",
              "4                   1       1   \n",
              "5                   0       3   \n",
              "\n",
              "                                                          Name Sex   Age  \\\n",
              "PassengerId                                                                \n",
              "1                                      Braund, Mr. Owen Harris   M  22.0   \n",
              "2            Cumings, Mrs. John Bradley (Florence Briggs Th...   F  38.0   \n",
              "3                                       Heikkinen, Miss. Laina   F  26.0   \n",
              "4                 Futrelle, Mrs. Jacques Heath (Lily May Peel)   F  35.0   \n",
              "5                                     Allen, Mr. William Henry   M  35.0   \n",
              "\n",
              "             SibSp  Parch            Ticket   Fare Cabin Embarked Deack Seat  \n",
              "PassengerId                                                                   \n",
              "1                1      0         A/5 21171   7.25   NaN        S   NaN  NaN  \n",
              "2                1      0          PC 17599  71.28   C85        C     C   85  \n",
              "3                0      0  STON/O2. 3101282   7.92   NaN        S   NaN  NaN  \n",
              "4                1      0            113803  53.10  C123        S     C  123  \n",
              "5                0      0            373450   8.05   NaN        S   NaN  NaN  \n",
              "\n",
              "[5 rows x 13 columns]"
            ]
          },
          "metadata": {
            "tags": []
          },
          "execution_count": 78
        }
      ]
    },
    {
      "cell_type": "code",
      "metadata": {
        "id": "ElMo9UBWUfaM",
        "outputId": "9af46561-3591-4af2-c76a-c437042234a8",
        "colab": {
          "base_uri": "https://localhost:8080/",
          "height": 446
        }
      },
      "source": [
        "# Verificando se os valores múltiplos de 'Cabin' foram corretamente trabalhados\n",
        "df_Titanic_WMV[df_Titanic_WMV['Cabin'].str.contains(r'\\s+', na=False, regex=True)][['Cabin', 'Deack', 'Seat']]"
      ],
      "execution_count": 65,
      "outputs": [
        {
          "output_type": "execute_result",
          "data": {
            "text/html": [
              "<div>\n",
              "<style scoped>\n",
              "    .dataframe tbody tr th:only-of-type {\n",
              "        vertical-align: middle;\n",
              "    }\n",
              "\n",
              "    .dataframe tbody tr th {\n",
              "        vertical-align: top;\n",
              "    }\n",
              "\n",
              "    .dataframe thead th {\n",
              "        text-align: right;\n",
              "    }\n",
              "</style>\n",
              "<table border=\"1\" class=\"dataframe\">\n",
              "  <thead>\n",
              "    <tr style=\"text-align: right;\">\n",
              "      <th></th>\n",
              "      <th>Cabin</th>\n",
              "      <th>Deack</th>\n",
              "      <th>Seat</th>\n",
              "    </tr>\n",
              "    <tr>\n",
              "      <th>PassengerId</th>\n",
              "      <th></th>\n",
              "      <th></th>\n",
              "      <th></th>\n",
              "    </tr>\n",
              "  </thead>\n",
              "  <tbody>\n",
              "    <tr>\n",
              "      <th>28</th>\n",
              "      <td>C23 C25 C27</td>\n",
              "      <td>C,C,C</td>\n",
              "      <td>23,25,27</td>\n",
              "    </tr>\n",
              "    <tr>\n",
              "      <th>76</th>\n",
              "      <td>F G73</td>\n",
              "      <td>F,G</td>\n",
              "      <td>NaN,73</td>\n",
              "    </tr>\n",
              "    <tr>\n",
              "      <th>89</th>\n",
              "      <td>C23 C25 C27</td>\n",
              "      <td>C,C,C</td>\n",
              "      <td>23,25,27</td>\n",
              "    </tr>\n",
              "    <tr>\n",
              "      <th>98</th>\n",
              "      <td>D10 D12</td>\n",
              "      <td>D,D</td>\n",
              "      <td>10,12</td>\n",
              "    </tr>\n",
              "    <tr>\n",
              "      <th>119</th>\n",
              "      <td>B58 B60</td>\n",
              "      <td>B,B</td>\n",
              "      <td>58,60</td>\n",
              "    </tr>\n",
              "    <tr>\n",
              "      <th>...</th>\n",
              "      <td>...</td>\n",
              "      <td>...</td>\n",
              "      <td>...</td>\n",
              "    </tr>\n",
              "    <tr>\n",
              "      <th>743</th>\n",
              "      <td>B57 B59 B63 B66</td>\n",
              "      <td>B,B,B,B</td>\n",
              "      <td>57,59,63,66</td>\n",
              "    </tr>\n",
              "    <tr>\n",
              "      <th>764</th>\n",
              "      <td>B96 B98</td>\n",
              "      <td>B,B</td>\n",
              "      <td>96,98</td>\n",
              "    </tr>\n",
              "    <tr>\n",
              "      <th>790</th>\n",
              "      <td>B82 B84</td>\n",
              "      <td>B,B</td>\n",
              "      <td>82,84</td>\n",
              "    </tr>\n",
              "    <tr>\n",
              "      <th>803</th>\n",
              "      <td>B96 B98</td>\n",
              "      <td>B,B</td>\n",
              "      <td>96,98</td>\n",
              "    </tr>\n",
              "    <tr>\n",
              "      <th>873</th>\n",
              "      <td>B51 B53 B55</td>\n",
              "      <td>B,B,B</td>\n",
              "      <td>51,53,55</td>\n",
              "    </tr>\n",
              "  </tbody>\n",
              "</table>\n",
              "<p>24 rows × 3 columns</p>\n",
              "</div>"
            ],
            "text/plain": [
              "                       Cabin    Deack         Seat\n",
              "PassengerId                                       \n",
              "28               C23 C25 C27    C,C,C     23,25,27\n",
              "76                     F G73      F,G       NaN,73\n",
              "89               C23 C25 C27    C,C,C     23,25,27\n",
              "98                   D10 D12      D,D        10,12\n",
              "119                  B58 B60      B,B        58,60\n",
              "...                      ...      ...          ...\n",
              "743          B57 B59 B63 B66  B,B,B,B  57,59,63,66\n",
              "764                  B96 B98      B,B        96,98\n",
              "790                  B82 B84      B,B        82,84\n",
              "803                  B96 B98      B,B        96,98\n",
              "873              B51 B53 B55    B,B,B     51,53,55\n",
              "\n",
              "[24 rows x 3 columns]"
            ]
          },
          "metadata": {
            "tags": []
          },
          "execution_count": 65
        }
      ]
    },
    {
      "cell_type": "markdown",
      "metadata": {
        "id": "pMBFt04zfqUV"
      },
      "source": [
        "___\n",
        "## Exercício 6\n",
        "* Criar a coluna 'sozinho_parch', onde sozinho_parch= 1 significa que o passageiro viaja sozinho e 0, caso contrário."
      ]
    },
    {
      "cell_type": "code",
      "metadata": {
        "id": "Q_t1Rl-2i5IK",
        "outputId": "c596a7c6-c753-45dd-f240-f8bd96f090f9",
        "colab": {
          "base_uri": "https://localhost:8080/"
        }
      },
      "source": [
        "# Explorando os valores de 'Parch'\n",
        "df_Titanic_WMV['Parch'].unique()"
      ],
      "execution_count": 79,
      "outputs": [
        {
          "output_type": "execute_result",
          "data": {
            "text/plain": [
              "array([0, 1, 2, 5, 3, 4, 6])"
            ]
          },
          "metadata": {
            "tags": []
          },
          "execution_count": 79
        }
      ]
    },
    {
      "cell_type": "code",
      "metadata": {
        "id": "SSfU1qCDjKhU"
      },
      "source": [
        "# Criando a coluna 'sozinho_parch'\n",
        "df_Titanic_WMV['sozinho_parch'] = df_Titanic_WMV['Parch'].map(lambda x: 1 if x == 0 else 0)"
      ],
      "execution_count": null,
      "outputs": []
    },
    {
      "cell_type": "code",
      "metadata": {
        "id": "3j9xpqJ1juM6",
        "outputId": "3f3dd281-f8c9-4d5a-e0e5-8496bf20ac0e",
        "colab": {
          "base_uri": "https://localhost:8080/"
        }
      },
      "source": [
        "# Verificando se há alguma atribuição incorreta para 'sozinho_parch' igual a 1\n",
        "((df_Titanic_WMV['Parch'] == 0) & (df_Titanic_WMV['sozinho_parch'] != 1)).sum()"
      ],
      "execution_count": 86,
      "outputs": [
        {
          "output_type": "execute_result",
          "data": {
            "text/plain": [
              "0"
            ]
          },
          "metadata": {
            "tags": []
          },
          "execution_count": 86
        }
      ]
    },
    {
      "cell_type": "code",
      "metadata": {
        "id": "UNsX9N_Qk88D",
        "outputId": "8b2dabb3-45fe-401e-8b69-66922a3382fd",
        "colab": {
          "base_uri": "https://localhost:8080/"
        }
      },
      "source": [
        "# Verificando se há alguma atribuição incorreta para 'sozinho_parch' igual a 0\n",
        "((df_Titanic_WMV['Parch'] != 0) & (df_Titanic_WMV['sozinho_parch'] != 0)).sum()"
      ],
      "execution_count": 87,
      "outputs": [
        {
          "output_type": "execute_result",
          "data": {
            "text/plain": [
              "0"
            ]
          },
          "metadata": {
            "tags": []
          },
          "execution_count": 87
        }
      ]
    },
    {
      "cell_type": "markdown",
      "metadata": {
        "id": "HbcJKTc2iLOo"
      },
      "source": [
        "___\n",
        "## Exercício 7\n",
        "* Criar o atributo 'sozinho_sibsp', onde sozinho= 1 significa que o passageiro viaja sozinho e 0, caso contrário."
      ]
    },
    {
      "cell_type": "code",
      "metadata": {
        "id": "YmiKU62hlKap",
        "outputId": "3dbf8e6d-8e82-4d07-ada7-9445453c9180",
        "colab": {
          "base_uri": "https://localhost:8080/"
        }
      },
      "source": [
        "# Explorando os valores de 'SibSp'\n",
        "df_Titanic_WMV['SibSp'].unique()"
      ],
      "execution_count": 88,
      "outputs": [
        {
          "output_type": "execute_result",
          "data": {
            "text/plain": [
              "array([1, 0, 3, 4, 2, 5, 8])"
            ]
          },
          "metadata": {
            "tags": []
          },
          "execution_count": 88
        }
      ]
    },
    {
      "cell_type": "code",
      "metadata": {
        "id": "mc71tIddlmAF"
      },
      "source": [
        "# Criando a coluna 'sozinho_sibsp'\n",
        "df_Titanic_WMV['sozinho_sibsp'] = df_Titanic_WMV['SibSp'].map(lambda x: 1 if x == 0 else 0)"
      ],
      "execution_count": 89,
      "outputs": []
    },
    {
      "cell_type": "code",
      "metadata": {
        "id": "QGR0MCQwlvpk",
        "outputId": "9f128532-2daf-42ed-dd55-64e7a5ae364a",
        "colab": {
          "base_uri": "https://localhost:8080/"
        }
      },
      "source": [
        "# Verificando se há alguma atribuição incorreta para 'sozinho_sibsp' igual a 1\n",
        "((df_Titanic_WMV['SibSp'] == 0) & (df_Titanic_WMV['sozinho_sibsp'] != 1)).sum()"
      ],
      "execution_count": 90,
      "outputs": [
        {
          "output_type": "execute_result",
          "data": {
            "text/plain": [
              "0"
            ]
          },
          "metadata": {
            "tags": []
          },
          "execution_count": 90
        }
      ]
    },
    {
      "cell_type": "code",
      "metadata": {
        "id": "b65sg-93l1rr",
        "outputId": "7088d8f9-d715-42f2-d4c7-748267a6a130",
        "colab": {
          "base_uri": "https://localhost:8080/"
        }
      },
      "source": [
        "# Verificando se há alguma atribuição incorreta para 'sozinho_sibsp' igual a 0\n",
        "((df_Titanic_WMV['SibSp'] != 0) & (df_Titanic_WMV['sozinho_sibsp'] != 0)).sum()"
      ],
      "execution_count": 91,
      "outputs": [
        {
          "output_type": "execute_result",
          "data": {
            "text/plain": [
              "0"
            ]
          },
          "metadata": {
            "tags": []
          },
          "execution_count": 91
        }
      ]
    },
    {
      "cell_type": "markdown",
      "metadata": {
        "id": "WNmgq66PiQ4I"
      },
      "source": [
        "___\n",
        "## Exercício 8\n",
        "* Discretizar a coluna 'fare' em 10 buckets."
      ]
    },
    {
      "cell_type": "code",
      "metadata": {
        "id": "bl_OBeIrl8hk",
        "outputId": "8d1ecdab-8906-4815-8040-e132f613c0f0",
        "colab": {
          "base_uri": "https://localhost:8080/"
        }
      },
      "source": [
        "# Explorando a coluna 'Fare'\n",
        "df_Titanic_WMV['Fare'].describe()"
      ],
      "execution_count": 92,
      "outputs": [
        {
          "output_type": "execute_result",
          "data": {
            "text/plain": [
              "count    891.00\n",
              "mean      32.20\n",
              "std       49.69\n",
              "min        0.00\n",
              "25%        7.91\n",
              "50%       14.45\n",
              "75%       31.00\n",
              "max      512.33\n",
              "Name: Fare, Length: 8, dtype: float64"
            ]
          },
          "metadata": {
            "tags": []
          },
          "execution_count": 92
        }
      ]
    },
    {
      "cell_type": "markdown",
      "metadata": {
        "id": "WPN5lBwSiV19"
      },
      "source": [
        "___\n",
        "## Exercício 9\n",
        "* Discretizar a coluna 'fare' em 10 buckets."
      ]
    },
    {
      "cell_type": "markdown",
      "metadata": {
        "id": "LCS3-8KTikqE"
      },
      "source": [
        "___\n",
        "## Exercício 10\n",
        "* Discretizar a coluna 'age'."
      ]
    },
    {
      "cell_type": "markdown",
      "metadata": {
        "id": "Zw5MD4aXipTy"
      },
      "source": [
        "___\n",
        "## Exercício 11\n",
        "* Capturar os títulos 'Ms', 'Mr' e etc contidos na coluna 'Title'."
      ]
    },
    {
      "cell_type": "markdown",
      "metadata": {
        "id": "tGzpWmeiiuk5"
      },
      "source": [
        "___\n",
        "## Exercício 12\n",
        "* Qual a relação entre as variáveis e a variável-target?"
      ]
    }
  ]
}