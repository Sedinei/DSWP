{
  "nbformat": 4,
  "nbformat_minor": 0,
  "metadata": {
    "colab": {
      "name": "Titanic - NB10.ipynb",
      "provenance": [],
      "authorship_tag": "ABX9TyP+eiRZBFggsmPNbH5om4VQ",
      "include_colab_link": true
    },
    "kernelspec": {
      "name": "python3",
      "display_name": "Python 3"
    }
  },
  "cells": [
    {
      "cell_type": "markdown",
      "metadata": {
        "id": "view-in-github",
        "colab_type": "text"
      },
      "source": [
        "<a href=\"https://colab.research.google.com/github/Sedinei/DSWP/blob/master/NB_trabalhado/Titanic_NB10.ipynb\" target=\"_parent\"><img src=\"https://colab.research.google.com/assets/colab-badge.svg\" alt=\"Open In Colab\"/></a>"
      ]
    },
    {
      "cell_type": "markdown",
      "metadata": {
        "id": "s-gz29xKesdO"
      },
      "source": [
        "## Dicionário de dados do dataframe df_Titanic:\n",
        "* PassengerID: ID do passageiro;\n",
        "* survived: Indicador, sendo 1= Passageiro sobreviveu e 0= Passageiro morreu;\n",
        "* Pclass: Classe;\n",
        "* Age: Idade do Passageiro;\n",
        "* SibSp: Número de parentes a bordo (esposa, irmãos, pais e etc);\n",
        "* Parch: Número de pais/crianças a bordo;\n",
        "* Fare: Valor pago pelo Passageiro;\n",
        "* Cabin: Cabine do Passageiro;\n",
        "* Embarked: A porta pelo qual o Passageiro embarcou.\n",
        "* Name: Nome do Passageiro;\n",
        "* sex: sexo do Passageiro."
      ]
    },
    {
      "cell_type": "code",
      "metadata": {
        "id": "n8e9aphab_oe"
      },
      "source": [
        "# carregar a library Pandas\n",
        "import pandas as pd\n",
        "import numpy as np\n",
        "import seaborn as sns\n",
        "import matplotlib.pyplot as plt"
      ],
      "execution_count": 125,
      "outputs": []
    },
    {
      "cell_type": "code",
      "metadata": {
        "id": "LmpFOX3Fg-mO"
      },
      "source": [
        "# Ajusta as configurações do Pandas e do Seaborn\n",
        "d_configuracao = {\n",
        "    'display.max_columns': 1000,\n",
        "    'display.expand_frame_repr': True,\n",
        "    'display.max_rows': 10,\n",
        "    'display.precision': 2,\n",
        "    'display.show_dimensions': True\n",
        "                  }\n",
        "\n",
        "for op, value in d_configuracao.items():\n",
        "    pd.set_option(op, value)\n",
        "\n",
        "sns.set_theme(style='dark')"
      ],
      "execution_count": 113,
      "outputs": []
    },
    {
      "cell_type": "markdown",
      "metadata": {
        "id": "Tgdoepvte51Q"
      },
      "source": [
        "___\n",
        "## Exercício 1\n",
        "* Ler o dataframe Titanic.csv;\n",
        "* Definir 'PassengerId' como índice/chave da tabela através do comando index_col= 'PassengerId'."
      ]
    },
    {
      "cell_type": "code",
      "metadata": {
        "id": "1R9YoFJ02TR7",
        "outputId": "207aba26-f9ff-4d0d-f2d4-1b7e2ecfc209",
        "colab": {
          "base_uri": "https://localhost:8080/",
          "height": 262
        }
      },
      "source": [
        "url = 'https://raw.githubusercontent.com/Sedinei/DSWP/master/Dataframes/Titanic_With_MV.csv'\n",
        "df_Titanic = pd.read_csv(url, index_col = 'PassengerId')\n",
        "df_Titanic.head()"
      ],
      "execution_count": 3,
      "outputs": [
        {
          "output_type": "execute_result",
          "data": {
            "text/html": [
              "<div>\n",
              "<style scoped>\n",
              "    .dataframe tbody tr th:only-of-type {\n",
              "        vertical-align: middle;\n",
              "    }\n",
              "\n",
              "    .dataframe tbody tr th {\n",
              "        vertical-align: top;\n",
              "    }\n",
              "\n",
              "    .dataframe thead th {\n",
              "        text-align: right;\n",
              "    }\n",
              "</style>\n",
              "<table border=\"1\" class=\"dataframe\">\n",
              "  <thead>\n",
              "    <tr style=\"text-align: right;\">\n",
              "      <th></th>\n",
              "      <th>Survived</th>\n",
              "      <th>Pclass</th>\n",
              "      <th>Name</th>\n",
              "      <th>Sex</th>\n",
              "      <th>Age</th>\n",
              "      <th>SibSp</th>\n",
              "      <th>Parch</th>\n",
              "      <th>Ticket</th>\n",
              "      <th>Fare</th>\n",
              "      <th>Cabin</th>\n",
              "      <th>Embarked</th>\n",
              "    </tr>\n",
              "    <tr>\n",
              "      <th>PassengerId</th>\n",
              "      <th></th>\n",
              "      <th></th>\n",
              "      <th></th>\n",
              "      <th></th>\n",
              "      <th></th>\n",
              "      <th></th>\n",
              "      <th></th>\n",
              "      <th></th>\n",
              "      <th></th>\n",
              "      <th></th>\n",
              "      <th></th>\n",
              "    </tr>\n",
              "  </thead>\n",
              "  <tbody>\n",
              "    <tr>\n",
              "      <th>1</th>\n",
              "      <td>0</td>\n",
              "      <td>3</td>\n",
              "      <td>Braund, Mr. Owen Harris</td>\n",
              "      <td>male</td>\n",
              "      <td>22.0</td>\n",
              "      <td>1</td>\n",
              "      <td>0</td>\n",
              "      <td>A/5 21171</td>\n",
              "      <td>7.25</td>\n",
              "      <td>NaN</td>\n",
              "      <td>S</td>\n",
              "    </tr>\n",
              "    <tr>\n",
              "      <th>2</th>\n",
              "      <td>1</td>\n",
              "      <td>1</td>\n",
              "      <td>Cumings, Mrs. John Bradley (Florence Briggs Th...</td>\n",
              "      <td>female</td>\n",
              "      <td>38.0</td>\n",
              "      <td>1</td>\n",
              "      <td>0</td>\n",
              "      <td>PC 17599</td>\n",
              "      <td>71.28</td>\n",
              "      <td>C85</td>\n",
              "      <td>C</td>\n",
              "    </tr>\n",
              "    <tr>\n",
              "      <th>3</th>\n",
              "      <td>1</td>\n",
              "      <td>3</td>\n",
              "      <td>Heikkinen, Miss. Laina</td>\n",
              "      <td>female</td>\n",
              "      <td>26.0</td>\n",
              "      <td>0</td>\n",
              "      <td>0</td>\n",
              "      <td>STON/O2. 3101282</td>\n",
              "      <td>7.92</td>\n",
              "      <td>NaN</td>\n",
              "      <td>S</td>\n",
              "    </tr>\n",
              "    <tr>\n",
              "      <th>4</th>\n",
              "      <td>1</td>\n",
              "      <td>1</td>\n",
              "      <td>Futrelle, Mrs. Jacques Heath (Lily May Peel)</td>\n",
              "      <td>female</td>\n",
              "      <td>35.0</td>\n",
              "      <td>1</td>\n",
              "      <td>0</td>\n",
              "      <td>113803</td>\n",
              "      <td>53.10</td>\n",
              "      <td>C123</td>\n",
              "      <td>S</td>\n",
              "    </tr>\n",
              "    <tr>\n",
              "      <th>5</th>\n",
              "      <td>0</td>\n",
              "      <td>3</td>\n",
              "      <td>Allen, Mr. William Henry</td>\n",
              "      <td>male</td>\n",
              "      <td>35.0</td>\n",
              "      <td>0</td>\n",
              "      <td>0</td>\n",
              "      <td>373450</td>\n",
              "      <td>8.05</td>\n",
              "      <td>NaN</td>\n",
              "      <td>S</td>\n",
              "    </tr>\n",
              "  </tbody>\n",
              "</table>\n",
              "<p>5 rows × 11 columns</p>\n",
              "</div>"
            ],
            "text/plain": [
              "             Survived  Pclass  \\\n",
              "PassengerId                     \n",
              "1                   0       3   \n",
              "2                   1       1   \n",
              "3                   1       3   \n",
              "4                   1       1   \n",
              "5                   0       3   \n",
              "\n",
              "                                                          Name     Sex   Age  \\\n",
              "PassengerId                                                                    \n",
              "1                                      Braund, Mr. Owen Harris    male  22.0   \n",
              "2            Cumings, Mrs. John Bradley (Florence Briggs Th...  female  38.0   \n",
              "3                                       Heikkinen, Miss. Laina  female  26.0   \n",
              "4                 Futrelle, Mrs. Jacques Heath (Lily May Peel)  female  35.0   \n",
              "5                                     Allen, Mr. William Henry    male  35.0   \n",
              "\n",
              "             SibSp  Parch            Ticket   Fare Cabin Embarked  \n",
              "PassengerId                                                        \n",
              "1                1      0         A/5 21171   7.25   NaN        S  \n",
              "2                1      0          PC 17599  71.28   C85        C  \n",
              "3                0      0  STON/O2. 3101282   7.92   NaN        S  \n",
              "4                1      0            113803  53.10  C123        S  \n",
              "5                0      0            373450   8.05   NaN        S  \n",
              "\n",
              "[5 rows x 11 columns]"
            ]
          },
          "metadata": {
            "tags": []
          },
          "execution_count": 3
        }
      ]
    },
    {
      "cell_type": "markdown",
      "metadata": {
        "id": "GgWJvH10EcjZ"
      },
      "source": [
        "___\n",
        "## Exercício 2\n",
        "* Passar os nomes das colunas e os dados para minúsculas."
      ]
    },
    {
      "cell_type": "code",
      "metadata": {
        "id": "nKbsESvjedEt",
        "outputId": "cf7f4fc5-d611-42f5-a59a-a2ff45fc7071",
        "colab": {
          "base_uri": "https://localhost:8080/",
          "height": 262
        }
      },
      "source": [
        "# Deixando os nomes das colunas em minúsculas e os dados do DataFrame\n",
        "df_Titanic.columns = [col.lower() for col in df_Titanic.columns]\n",
        "# Altera o nome do índice\n",
        "indice = df_Titanic.index\n",
        "indice.name = indice.name.lower()\n",
        "df_Titanic.index = indice\n",
        "df_Titanic = df_Titanic.applymap(lambda x: x.lower() if type(x) == str else x)\n",
        "df_Titanic.head()"
      ],
      "execution_count": 4,
      "outputs": [
        {
          "output_type": "execute_result",
          "data": {
            "text/html": [
              "<div>\n",
              "<style scoped>\n",
              "    .dataframe tbody tr th:only-of-type {\n",
              "        vertical-align: middle;\n",
              "    }\n",
              "\n",
              "    .dataframe tbody tr th {\n",
              "        vertical-align: top;\n",
              "    }\n",
              "\n",
              "    .dataframe thead th {\n",
              "        text-align: right;\n",
              "    }\n",
              "</style>\n",
              "<table border=\"1\" class=\"dataframe\">\n",
              "  <thead>\n",
              "    <tr style=\"text-align: right;\">\n",
              "      <th></th>\n",
              "      <th>survived</th>\n",
              "      <th>pclass</th>\n",
              "      <th>name</th>\n",
              "      <th>sex</th>\n",
              "      <th>age</th>\n",
              "      <th>sibsp</th>\n",
              "      <th>parch</th>\n",
              "      <th>ticket</th>\n",
              "      <th>fare</th>\n",
              "      <th>cabin</th>\n",
              "      <th>embarked</th>\n",
              "    </tr>\n",
              "    <tr>\n",
              "      <th>passengerid</th>\n",
              "      <th></th>\n",
              "      <th></th>\n",
              "      <th></th>\n",
              "      <th></th>\n",
              "      <th></th>\n",
              "      <th></th>\n",
              "      <th></th>\n",
              "      <th></th>\n",
              "      <th></th>\n",
              "      <th></th>\n",
              "      <th></th>\n",
              "    </tr>\n",
              "  </thead>\n",
              "  <tbody>\n",
              "    <tr>\n",
              "      <th>1</th>\n",
              "      <td>0</td>\n",
              "      <td>3</td>\n",
              "      <td>braund, mr. owen harris</td>\n",
              "      <td>male</td>\n",
              "      <td>22.0</td>\n",
              "      <td>1</td>\n",
              "      <td>0</td>\n",
              "      <td>a/5 21171</td>\n",
              "      <td>7.25</td>\n",
              "      <td>NaN</td>\n",
              "      <td>s</td>\n",
              "    </tr>\n",
              "    <tr>\n",
              "      <th>2</th>\n",
              "      <td>1</td>\n",
              "      <td>1</td>\n",
              "      <td>cumings, mrs. john bradley (florence briggs th...</td>\n",
              "      <td>female</td>\n",
              "      <td>38.0</td>\n",
              "      <td>1</td>\n",
              "      <td>0</td>\n",
              "      <td>pc 17599</td>\n",
              "      <td>71.28</td>\n",
              "      <td>c85</td>\n",
              "      <td>c</td>\n",
              "    </tr>\n",
              "    <tr>\n",
              "      <th>3</th>\n",
              "      <td>1</td>\n",
              "      <td>3</td>\n",
              "      <td>heikkinen, miss. laina</td>\n",
              "      <td>female</td>\n",
              "      <td>26.0</td>\n",
              "      <td>0</td>\n",
              "      <td>0</td>\n",
              "      <td>ston/o2. 3101282</td>\n",
              "      <td>7.92</td>\n",
              "      <td>NaN</td>\n",
              "      <td>s</td>\n",
              "    </tr>\n",
              "    <tr>\n",
              "      <th>4</th>\n",
              "      <td>1</td>\n",
              "      <td>1</td>\n",
              "      <td>futrelle, mrs. jacques heath (lily may peel)</td>\n",
              "      <td>female</td>\n",
              "      <td>35.0</td>\n",
              "      <td>1</td>\n",
              "      <td>0</td>\n",
              "      <td>113803</td>\n",
              "      <td>53.10</td>\n",
              "      <td>c123</td>\n",
              "      <td>s</td>\n",
              "    </tr>\n",
              "    <tr>\n",
              "      <th>5</th>\n",
              "      <td>0</td>\n",
              "      <td>3</td>\n",
              "      <td>allen, mr. william henry</td>\n",
              "      <td>male</td>\n",
              "      <td>35.0</td>\n",
              "      <td>0</td>\n",
              "      <td>0</td>\n",
              "      <td>373450</td>\n",
              "      <td>8.05</td>\n",
              "      <td>NaN</td>\n",
              "      <td>s</td>\n",
              "    </tr>\n",
              "  </tbody>\n",
              "</table>\n",
              "<p>5 rows × 11 columns</p>\n",
              "</div>"
            ],
            "text/plain": [
              "             survived  pclass  \\\n",
              "passengerid                     \n",
              "1                   0       3   \n",
              "2                   1       1   \n",
              "3                   1       3   \n",
              "4                   1       1   \n",
              "5                   0       3   \n",
              "\n",
              "                                                          name     sex   age  \\\n",
              "passengerid                                                                    \n",
              "1                                      braund, mr. owen harris    male  22.0   \n",
              "2            cumings, mrs. john bradley (florence briggs th...  female  38.0   \n",
              "3                                       heikkinen, miss. laina  female  26.0   \n",
              "4                 futrelle, mrs. jacques heath (lily may peel)  female  35.0   \n",
              "5                                     allen, mr. william henry    male  35.0   \n",
              "\n",
              "             sibsp  parch            ticket   fare cabin embarked  \n",
              "passengerid                                                        \n",
              "1                1      0         a/5 21171   7.25   NaN        s  \n",
              "2                1      0          pc 17599  71.28   c85        c  \n",
              "3                0      0  ston/o2. 3101282   7.92   NaN        s  \n",
              "4                1      0            113803  53.10  c123        s  \n",
              "5                0      0            373450   8.05   NaN        s  \n",
              "\n",
              "[5 rows x 11 columns]"
            ]
          },
          "metadata": {
            "tags": []
          },
          "execution_count": 4
        }
      ]
    },
    {
      "cell_type": "markdown",
      "metadata": {
        "id": "EIdltTC-t_lF"
      },
      "source": [
        "___\n",
        "## Exercício 3\n",
        "* Identifique e delete os atributos do dataframe df_Titanic que podem ser excluídos inicialmente no início da análise de dados."
      ]
    },
    {
      "cell_type": "code",
      "metadata": {
        "id": "MztD3pmllOvr",
        "outputId": "dc842081-56d4-45db-8ad4-5e0e6a75f7ee",
        "colab": {
          "base_uri": "https://localhost:8080/",
          "height": 262
        }
      },
      "source": [
        "# Os atributos que provavelmente não trariam nenhuma informação útil seriam ticket e cabin\n",
        "df_Titanic.drop(columns=['ticket', 'cabin'], inplace=True)\n",
        "df_Titanic.head()"
      ],
      "execution_count": 7,
      "outputs": [
        {
          "output_type": "execute_result",
          "data": {
            "text/html": [
              "<div>\n",
              "<style scoped>\n",
              "    .dataframe tbody tr th:only-of-type {\n",
              "        vertical-align: middle;\n",
              "    }\n",
              "\n",
              "    .dataframe tbody tr th {\n",
              "        vertical-align: top;\n",
              "    }\n",
              "\n",
              "    .dataframe thead th {\n",
              "        text-align: right;\n",
              "    }\n",
              "</style>\n",
              "<table border=\"1\" class=\"dataframe\">\n",
              "  <thead>\n",
              "    <tr style=\"text-align: right;\">\n",
              "      <th></th>\n",
              "      <th>survived</th>\n",
              "      <th>pclass</th>\n",
              "      <th>name</th>\n",
              "      <th>sex</th>\n",
              "      <th>age</th>\n",
              "      <th>sibsp</th>\n",
              "      <th>parch</th>\n",
              "      <th>fare</th>\n",
              "      <th>embarked</th>\n",
              "    </tr>\n",
              "    <tr>\n",
              "      <th>passengerid</th>\n",
              "      <th></th>\n",
              "      <th></th>\n",
              "      <th></th>\n",
              "      <th></th>\n",
              "      <th></th>\n",
              "      <th></th>\n",
              "      <th></th>\n",
              "      <th></th>\n",
              "      <th></th>\n",
              "    </tr>\n",
              "  </thead>\n",
              "  <tbody>\n",
              "    <tr>\n",
              "      <th>1</th>\n",
              "      <td>0</td>\n",
              "      <td>3</td>\n",
              "      <td>braund, mr. owen harris</td>\n",
              "      <td>male</td>\n",
              "      <td>22.0</td>\n",
              "      <td>1</td>\n",
              "      <td>0</td>\n",
              "      <td>7.25</td>\n",
              "      <td>s</td>\n",
              "    </tr>\n",
              "    <tr>\n",
              "      <th>2</th>\n",
              "      <td>1</td>\n",
              "      <td>1</td>\n",
              "      <td>cumings, mrs. john bradley (florence briggs th...</td>\n",
              "      <td>female</td>\n",
              "      <td>38.0</td>\n",
              "      <td>1</td>\n",
              "      <td>0</td>\n",
              "      <td>71.28</td>\n",
              "      <td>c</td>\n",
              "    </tr>\n",
              "    <tr>\n",
              "      <th>3</th>\n",
              "      <td>1</td>\n",
              "      <td>3</td>\n",
              "      <td>heikkinen, miss. laina</td>\n",
              "      <td>female</td>\n",
              "      <td>26.0</td>\n",
              "      <td>0</td>\n",
              "      <td>0</td>\n",
              "      <td>7.92</td>\n",
              "      <td>s</td>\n",
              "    </tr>\n",
              "    <tr>\n",
              "      <th>4</th>\n",
              "      <td>1</td>\n",
              "      <td>1</td>\n",
              "      <td>futrelle, mrs. jacques heath (lily may peel)</td>\n",
              "      <td>female</td>\n",
              "      <td>35.0</td>\n",
              "      <td>1</td>\n",
              "      <td>0</td>\n",
              "      <td>53.10</td>\n",
              "      <td>s</td>\n",
              "    </tr>\n",
              "    <tr>\n",
              "      <th>5</th>\n",
              "      <td>0</td>\n",
              "      <td>3</td>\n",
              "      <td>allen, mr. william henry</td>\n",
              "      <td>male</td>\n",
              "      <td>35.0</td>\n",
              "      <td>0</td>\n",
              "      <td>0</td>\n",
              "      <td>8.05</td>\n",
              "      <td>s</td>\n",
              "    </tr>\n",
              "  </tbody>\n",
              "</table>\n",
              "<p>5 rows × 9 columns</p>\n",
              "</div>"
            ],
            "text/plain": [
              "             survived  pclass  \\\n",
              "passengerid                     \n",
              "1                   0       3   \n",
              "2                   1       1   \n",
              "3                   1       3   \n",
              "4                   1       1   \n",
              "5                   0       3   \n",
              "\n",
              "                                                          name     sex   age  \\\n",
              "passengerid                                                                    \n",
              "1                                      braund, mr. owen harris    male  22.0   \n",
              "2            cumings, mrs. john bradley (florence briggs th...  female  38.0   \n",
              "3                                       heikkinen, miss. laina  female  26.0   \n",
              "4                 futrelle, mrs. jacques heath (lily may peel)  female  35.0   \n",
              "5                                     allen, mr. william henry    male  35.0   \n",
              "\n",
              "             sibsp  parch   fare embarked  \n",
              "passengerid                                \n",
              "1                1      0   7.25        s  \n",
              "2                1      0  71.28        c  \n",
              "3                0      0   7.92        s  \n",
              "4                1      0  53.10        s  \n",
              "5                0      0   8.05        s  \n",
              "\n",
              "[5 rows x 9 columns]"
            ]
          },
          "metadata": {
            "tags": []
          },
          "execution_count": 7
        }
      ]
    },
    {
      "cell_type": "markdown",
      "metadata": {
        "id": "bMwPLgWclWBq"
      },
      "source": [
        "___\n",
        "## Exercício 4\n",
        "* Carregue o dataframe Titanic_With_MV.csv e analise o dataframe em busca de inconsistências e Missing Values (NaN)."
      ]
    },
    {
      "cell_type": "code",
      "metadata": {
        "id": "TNuN3hHoGf2a",
        "outputId": "0e6cc47a-759b-41b0-a6fb-42911d95cc25",
        "colab": {
          "base_uri": "https://localhost:8080/"
        }
      },
      "source": [
        "url_Titanic_WMV = 'https://github.com/Sedinei/DSWP/raw/master/Dataframes/Titanic_With_MV.csv'\n",
        "df_Titanic_WMV = pd.read_csv(url_Titanic_WMV, index_col='PassengerId')\n",
        "\n",
        "# Verificando a quantidade de missing values\n",
        "df_Titanic_WMV.info()"
      ],
      "execution_count": 67,
      "outputs": [
        {
          "output_type": "stream",
          "text": [
            "<class 'pandas.core.frame.DataFrame'>\n",
            "Int64Index: 891 entries, 1 to 891\n",
            "Data columns (total 11 columns):\n",
            " #   Column    Non-Null Count  Dtype  \n",
            "---  ------    --------------  -----  \n",
            " 0   Survived  891 non-null    int64  \n",
            " 1   Pclass    891 non-null    int64  \n",
            " 2   Name      891 non-null    object \n",
            " 3   Sex       891 non-null    object \n",
            " 4   Age       714 non-null    float64\n",
            " 5   SibSp     891 non-null    int64  \n",
            " 6   Parch     891 non-null    int64  \n",
            " 7   Ticket    891 non-null    object \n",
            " 8   Fare      891 non-null    float64\n",
            " 9   Cabin     204 non-null    object \n",
            " 10  Embarked  889 non-null    object \n",
            "dtypes: float64(2), int64(4), object(5)\n",
            "memory usage: 83.5+ KB\n"
          ],
          "name": "stdout"
        }
      ]
    },
    {
      "cell_type": "markdown",
      "metadata": {
        "id": "w8oLKDE4HagO"
      },
      "source": [
        "Há missing values em 'Age' (177), em 'Cabin' (687) e em 'Embarked' (2)"
      ]
    },
    {
      "cell_type": "code",
      "metadata": {
        "id": "ZMbu7WMIH5Ox",
        "outputId": "8d89bc37-eaa8-4b29-ff5e-5e701ca695d1",
        "colab": {
          "base_uri": "https://localhost:8080/"
        }
      },
      "source": [
        "# Explorando a quantidade de itens únicos\n",
        "for i, v in df_Titanic_WMV.nunique().iteritems():\n",
        "    print(f'{i}:  {v}')"
      ],
      "execution_count": 68,
      "outputs": [
        {
          "output_type": "stream",
          "text": [
            "Survived:  2\n",
            "Pclass:  3\n",
            "Name:  891\n",
            "Sex:  14\n",
            "Age:  88\n",
            "SibSp:  7\n",
            "Parch:  7\n",
            "Ticket:  681\n",
            "Fare:  248\n",
            "Cabin:  147\n",
            "Embarked:  3\n"
          ],
          "name": "stdout"
        }
      ]
    },
    {
      "cell_type": "markdown",
      "metadata": {
        "id": "HznGieyUKKkB"
      },
      "source": [
        "* Deve haver 21 valores de 'Ticket' repetidos;\n",
        "* Deve haver 57 valores de 'Cabin' repetidos;\n",
        "\n",
        "* **Há 14 valores distintos para 'Sex' o que é muito estranho, pois deveria haver apenas 2 valores**"
      ]
    },
    {
      "cell_type": "code",
      "metadata": {
        "id": "7Jdya6w-K6-w",
        "outputId": "94a38629-be66-4e77-8791-0e8f80f780f8",
        "colab": {
          "base_uri": "https://localhost:8080/"
        }
      },
      "source": [
        "# Explorando as quantidade de valores distintos de 'Sex'\n",
        "for i, v in df_Titanic_WMV['Sex'].value_counts().iteritems():\n",
        "    print(f'{i}:  {v}')"
      ],
      "execution_count": 69,
      "outputs": [
        {
          "output_type": "stream",
          "text": [
            "male:  567\n",
            "female:  306\n",
            "m:  4\n",
            "M:  3\n",
            "f:  2\n",
            "W:  1\n",
            "MALE:  1\n",
            "fEMALE:  1\n",
            "F:  1\n",
            "Men:  1\n",
            "Female:  1\n",
            "Woman:  1\n",
            "mALE:  1\n",
            "w:  1\n"
          ],
          "name": "stdout"
        }
      ]
    },
    {
      "cell_type": "code",
      "metadata": {
        "id": "mH09W1lmN8ly",
        "outputId": "a1307aa6-7a6c-469d-a021-231b6eb349b1",
        "colab": {
          "base_uri": "https://localhost:8080/"
        }
      },
      "source": [
        "# Para evitar perda de dados, criei uma nova coluna para trabalhar ('Work_Sex')\n",
        "# Coloquei em 'Work_Sex' os valores de 'Sex' em maiúsculas e peguei o primeiro valor\n",
        "# Espero ter os seguintes valores: M, para masculino, M e W, para feminino\n",
        "df_Titanic_WMV['Work_Sex'] = df_Titanic_WMV['Sex'].str.upper().str.get(0)\n",
        "df_Titanic_WMV['Work_Sex'].value_counts()"
      ],
      "execution_count": 70,
      "outputs": [
        {
          "output_type": "execute_result",
          "data": {
            "text/plain": [
              "M    577\n",
              "F    311\n",
              "W      3\n",
              "Name: Work_Sex, Length: 3, dtype: int64"
            ]
          },
          "metadata": {
            "tags": []
          },
          "execution_count": 70
        }
      ]
    },
    {
      "cell_type": "code",
      "metadata": {
        "id": "R7Mgk7QoSjPN",
        "outputId": "9a6476c8-07c4-42ae-9079-a1e54282a39f",
        "colab": {
          "base_uri": "https://localhost:8080/"
        }
      },
      "source": [
        "# Transformo os valores W em F, deixando igual os M e F\n",
        "# Espero agora só ter M e F\n",
        "df_Titanic_WMV['Work_Sex'] = df_Titanic_WMV['Work_Sex'].map(lambda x: 'F' if x == 'W' else x)\n",
        "df_Titanic_WMV['Work_Sex'].value_counts()"
      ],
      "execution_count": 72,
      "outputs": [
        {
          "output_type": "execute_result",
          "data": {
            "text/plain": [
              "M    577\n",
              "F    314\n",
              "Name: Work_Sex, Length: 2, dtype: int64"
            ]
          },
          "metadata": {
            "tags": []
          },
          "execution_count": 72
        }
      ]
    },
    {
      "cell_type": "code",
      "metadata": {
        "id": "DwZcct4wTlOa",
        "outputId": "cddbb512-9deb-492f-8329-aff03db40c86",
        "colab": {
          "base_uri": "https://localhost:8080/",
          "height": 262
        }
      },
      "source": [
        "# Substituo os valores de 'Sex' pelos de 'Work_Sex' e excluo 'Work_Sex'\n",
        "df_Titanic_WMV['Sex'] = df_Titanic_WMV['Work_Sex']\n",
        "df_Titanic_WMV.drop(columns='Work_Sex', inplace=True)\n",
        "df_Titanic_WMV.head()"
      ],
      "execution_count": 73,
      "outputs": [
        {
          "output_type": "execute_result",
          "data": {
            "text/html": [
              "<div>\n",
              "<style scoped>\n",
              "    .dataframe tbody tr th:only-of-type {\n",
              "        vertical-align: middle;\n",
              "    }\n",
              "\n",
              "    .dataframe tbody tr th {\n",
              "        vertical-align: top;\n",
              "    }\n",
              "\n",
              "    .dataframe thead th {\n",
              "        text-align: right;\n",
              "    }\n",
              "</style>\n",
              "<table border=\"1\" class=\"dataframe\">\n",
              "  <thead>\n",
              "    <tr style=\"text-align: right;\">\n",
              "      <th></th>\n",
              "      <th>Survived</th>\n",
              "      <th>Pclass</th>\n",
              "      <th>Name</th>\n",
              "      <th>Sex</th>\n",
              "      <th>Age</th>\n",
              "      <th>SibSp</th>\n",
              "      <th>Parch</th>\n",
              "      <th>Ticket</th>\n",
              "      <th>Fare</th>\n",
              "      <th>Cabin</th>\n",
              "      <th>Embarked</th>\n",
              "    </tr>\n",
              "    <tr>\n",
              "      <th>PassengerId</th>\n",
              "      <th></th>\n",
              "      <th></th>\n",
              "      <th></th>\n",
              "      <th></th>\n",
              "      <th></th>\n",
              "      <th></th>\n",
              "      <th></th>\n",
              "      <th></th>\n",
              "      <th></th>\n",
              "      <th></th>\n",
              "      <th></th>\n",
              "    </tr>\n",
              "  </thead>\n",
              "  <tbody>\n",
              "    <tr>\n",
              "      <th>1</th>\n",
              "      <td>0</td>\n",
              "      <td>3</td>\n",
              "      <td>Braund, Mr. Owen Harris</td>\n",
              "      <td>M</td>\n",
              "      <td>22.0</td>\n",
              "      <td>1</td>\n",
              "      <td>0</td>\n",
              "      <td>A/5 21171</td>\n",
              "      <td>7.25</td>\n",
              "      <td>NaN</td>\n",
              "      <td>S</td>\n",
              "    </tr>\n",
              "    <tr>\n",
              "      <th>2</th>\n",
              "      <td>1</td>\n",
              "      <td>1</td>\n",
              "      <td>Cumings, Mrs. John Bradley (Florence Briggs Th...</td>\n",
              "      <td>F</td>\n",
              "      <td>38.0</td>\n",
              "      <td>1</td>\n",
              "      <td>0</td>\n",
              "      <td>PC 17599</td>\n",
              "      <td>71.28</td>\n",
              "      <td>C85</td>\n",
              "      <td>C</td>\n",
              "    </tr>\n",
              "    <tr>\n",
              "      <th>3</th>\n",
              "      <td>1</td>\n",
              "      <td>3</td>\n",
              "      <td>Heikkinen, Miss. Laina</td>\n",
              "      <td>F</td>\n",
              "      <td>26.0</td>\n",
              "      <td>0</td>\n",
              "      <td>0</td>\n",
              "      <td>STON/O2. 3101282</td>\n",
              "      <td>7.92</td>\n",
              "      <td>NaN</td>\n",
              "      <td>S</td>\n",
              "    </tr>\n",
              "    <tr>\n",
              "      <th>4</th>\n",
              "      <td>1</td>\n",
              "      <td>1</td>\n",
              "      <td>Futrelle, Mrs. Jacques Heath (Lily May Peel)</td>\n",
              "      <td>F</td>\n",
              "      <td>35.0</td>\n",
              "      <td>1</td>\n",
              "      <td>0</td>\n",
              "      <td>113803</td>\n",
              "      <td>53.10</td>\n",
              "      <td>C123</td>\n",
              "      <td>S</td>\n",
              "    </tr>\n",
              "    <tr>\n",
              "      <th>5</th>\n",
              "      <td>0</td>\n",
              "      <td>3</td>\n",
              "      <td>Allen, Mr. William Henry</td>\n",
              "      <td>M</td>\n",
              "      <td>35.0</td>\n",
              "      <td>0</td>\n",
              "      <td>0</td>\n",
              "      <td>373450</td>\n",
              "      <td>8.05</td>\n",
              "      <td>NaN</td>\n",
              "      <td>S</td>\n",
              "    </tr>\n",
              "  </tbody>\n",
              "</table>\n",
              "<p>5 rows × 11 columns</p>\n",
              "</div>"
            ],
            "text/plain": [
              "             Survived  Pclass  \\\n",
              "PassengerId                     \n",
              "1                   0       3   \n",
              "2                   1       1   \n",
              "3                   1       3   \n",
              "4                   1       1   \n",
              "5                   0       3   \n",
              "\n",
              "                                                          Name Sex   Age  \\\n",
              "PassengerId                                                                \n",
              "1                                      Braund, Mr. Owen Harris   M  22.0   \n",
              "2            Cumings, Mrs. John Bradley (Florence Briggs Th...   F  38.0   \n",
              "3                                       Heikkinen, Miss. Laina   F  26.0   \n",
              "4                 Futrelle, Mrs. Jacques Heath (Lily May Peel)   F  35.0   \n",
              "5                                     Allen, Mr. William Henry   M  35.0   \n",
              "\n",
              "             SibSp  Parch            Ticket   Fare Cabin Embarked  \n",
              "PassengerId                                                        \n",
              "1                1      0         A/5 21171   7.25   NaN        S  \n",
              "2                1      0          PC 17599  71.28   C85        C  \n",
              "3                0      0  STON/O2. 3101282   7.92   NaN        S  \n",
              "4                1      0            113803  53.10  C123        S  \n",
              "5                0      0            373450   8.05   NaN        S  \n",
              "\n",
              "[5 rows x 11 columns]"
            ]
          },
          "metadata": {
            "tags": []
          },
          "execution_count": 73
        }
      ]
    },
    {
      "cell_type": "code",
      "metadata": {
        "id": "1Sdi3QPmzPuK",
        "outputId": "999f8e5d-a016-478e-c55f-105ec6b90ff5",
        "colab": {
          "base_uri": "https://localhost:8080/",
          "height": 399
        }
      },
      "source": [
        "sns.catplot(x=\"sex\", kind=\"count\", data = df_Titanic)"
      ],
      "execution_count": 115,
      "outputs": [
        {
          "output_type": "execute_result",
          "data": {
            "text/plain": [
              "<seaborn.axisgrid.FacetGrid at 0x7f14710c80f0>"
            ]
          },
          "metadata": {
            "tags": []
          },
          "execution_count": 115
        },
        {
          "output_type": "display_data",
          "data": {
            "image/png": "[encoded data removed]",
            "text/plain": [
              "<Figure size 360x360 with 1 Axes>"
            ]
          },
          "metadata": {
            "tags": []
          }
        }
      ]
    },
    {
      "cell_type": "code",
      "metadata": {
        "id": "alXrFDvTyFyY",
        "outputId": "57118f8a-64b1-4f57-d551-bd506a4b90cb",
        "colab": {
          "base_uri": "https://localhost:8080/",
          "height": 303
        }
      },
      "source": [
        "# Analisando a relação entre 'Sex' e 'Survived'\n",
        "sns.countplot(x = 'Survived', hue ='Sex', data = df_Titanic_WMV)"
      ],
      "execution_count": 114,
      "outputs": [
        {
          "output_type": "execute_result",
          "data": {
            "text/plain": [
              "<matplotlib.axes._subplots.AxesSubplot at 0x7f14710c8588>"
            ]
          },
          "metadata": {
            "tags": []
          },
          "execution_count": 114
        },
        {
          "output_type": "display_data",
          "data": {
            "image/png": "[encoded data removed]",
            "text/plain": [
              "<Figure size 432x288 with 1 Axes>"
            ]
          },
          "metadata": {
            "tags": []
          }
        }
      ]
    },
    {
      "cell_type": "markdown",
      "metadata": {
        "id": "r6nZG9m-dyQk"
      },
      "source": [
        "___\n",
        "## Exercício 5\n",
        "* Com a coluna 'cabin', construir as colunas:\n",
        "    * deck - Letra de Cabin;\n",
        "    * seat - Número de Cabin"
      ]
    },
    {
      "cell_type": "code",
      "metadata": {
        "id": "zEcWh2jTgdMq",
        "outputId": "d4bdfb91-4e07-4034-8d57-bef5b548fd27",
        "colab": {
          "base_uri": "https://localhost:8080/"
        }
      },
      "source": [
        "# Explorando os valores de 'Cabin'\n",
        "df_Titanic_WMV.loc[df_Titanic_WMV['Cabin'].notna(), 'Cabin'].head(20)"
      ],
      "execution_count": 75,
      "outputs": [
        {
          "output_type": "execute_result",
          "data": {
            "text/plain": [
              "PassengerId\n",
              "2             C85\n",
              "4            C123\n",
              "7             E46\n",
              "11             G6\n",
              "12           C103\n",
              "         ...     \n",
              "76          F G73\n",
              "89    C23 C25 C27\n",
              "93            E31\n",
              "97             A5\n",
              "98        D10 D12\n",
              "Name: Cabin, Length: 20, dtype: object"
            ]
          },
          "metadata": {
            "tags": []
          },
          "execution_count": 75
        }
      ]
    },
    {
      "cell_type": "code",
      "metadata": {
        "id": "c6qL_KgOWgSG"
      },
      "source": [
        "# Criei uma função que quebra o conteúdo de 'Cabin' em decks e seats\n",
        "# Verifiquei que há casos nos quais há mais de uma cabine em 'Cabin'\n",
        "# Há também muitos NaN\n",
        "def deck_seat(cabins):\n",
        "    # Verifica se não é um NaN\n",
        "    if type(cabins) != str: return 'NaN', 'NaN'\n",
        "    decks = []\n",
        "    seats = []\n",
        "    cabins = cabins.split()\n",
        "    for cabin in cabins:\n",
        "        decks.append(cabin[0])\n",
        "        if len(cabin) == 1: seats.append('NaN')\n",
        "        else: seats.append(cabin[1:])\n",
        "    \n",
        "    return ','.join(decks), ','.join(seats)"
      ],
      "execution_count": 76,
      "outputs": []
    },
    {
      "cell_type": "code",
      "metadata": {
        "id": "CZP4rWHkXkES",
        "outputId": "33dd387a-567b-4053-cc72-8492a2366c0a",
        "colab": {
          "base_uri": "https://localhost:8080/",
          "height": 297
        }
      },
      "source": [
        "# Aplica a função em 'Cabin' usando map\n",
        "# Com o zip consiguimos atribuir os múltiplos valores às duas colunas ao mesmo tempo\n",
        "df_Titanic_WMV['Deack'], df_Titanic_WMV['Seat'] = zip(*df_Titanic_WMV['Cabin'].map(deck_seat))\n",
        "df_Titanic_WMV.head()"
      ],
      "execution_count": 78,
      "outputs": [
        {
          "output_type": "execute_result",
          "data": {
            "text/html": [
              "<div>\n",
              "<style scoped>\n",
              "    .dataframe tbody tr th:only-of-type {\n",
              "        vertical-align: middle;\n",
              "    }\n",
              "\n",
              "    .dataframe tbody tr th {\n",
              "        vertical-align: top;\n",
              "    }\n",
              "\n",
              "    .dataframe thead th {\n",
              "        text-align: right;\n",
              "    }\n",
              "</style>\n",
              "<table border=\"1\" class=\"dataframe\">\n",
              "  <thead>\n",
              "    <tr style=\"text-align: right;\">\n",
              "      <th></th>\n",
              "      <th>Survived</th>\n",
              "      <th>Pclass</th>\n",
              "      <th>Name</th>\n",
              "      <th>Sex</th>\n",
              "      <th>Age</th>\n",
              "      <th>SibSp</th>\n",
              "      <th>Parch</th>\n",
              "      <th>Ticket</th>\n",
              "      <th>Fare</th>\n",
              "      <th>Cabin</th>\n",
              "      <th>Embarked</th>\n",
              "      <th>Deack</th>\n",
              "      <th>Seat</th>\n",
              "    </tr>\n",
              "    <tr>\n",
              "      <th>PassengerId</th>\n",
              "      <th></th>\n",
              "      <th></th>\n",
              "      <th></th>\n",
              "      <th></th>\n",
              "      <th></th>\n",
              "      <th></th>\n",
              "      <th></th>\n",
              "      <th></th>\n",
              "      <th></th>\n",
              "      <th></th>\n",
              "      <th></th>\n",
              "      <th></th>\n",
              "      <th></th>\n",
              "    </tr>\n",
              "  </thead>\n",
              "  <tbody>\n",
              "    <tr>\n",
              "      <th>1</th>\n",
              "      <td>0</td>\n",
              "      <td>3</td>\n",
              "      <td>Braund, Mr. Owen Harris</td>\n",
              "      <td>M</td>\n",
              "      <td>22.0</td>\n",
              "      <td>1</td>\n",
              "      <td>0</td>\n",
              "      <td>A/5 21171</td>\n",
              "      <td>7.25</td>\n",
              "      <td>NaN</td>\n",
              "      <td>S</td>\n",
              "      <td>NaN</td>\n",
              "      <td>NaN</td>\n",
              "    </tr>\n",
              "    <tr>\n",
              "      <th>2</th>\n",
              "      <td>1</td>\n",
              "      <td>1</td>\n",
              "      <td>Cumings, Mrs. John Bradley (Florence Briggs Th...</td>\n",
              "      <td>F</td>\n",
              "      <td>38.0</td>\n",
              "      <td>1</td>\n",
              "      <td>0</td>\n",
              "      <td>PC 17599</td>\n",
              "      <td>71.28</td>\n",
              "      <td>C85</td>\n",
              "      <td>C</td>\n",
              "      <td>C</td>\n",
              "      <td>85</td>\n",
              "    </tr>\n",
              "    <tr>\n",
              "      <th>3</th>\n",
              "      <td>1</td>\n",
              "      <td>3</td>\n",
              "      <td>Heikkinen, Miss. Laina</td>\n",
              "      <td>F</td>\n",
              "      <td>26.0</td>\n",
              "      <td>0</td>\n",
              "      <td>0</td>\n",
              "      <td>STON/O2. 3101282</td>\n",
              "      <td>7.92</td>\n",
              "      <td>NaN</td>\n",
              "      <td>S</td>\n",
              "      <td>NaN</td>\n",
              "      <td>NaN</td>\n",
              "    </tr>\n",
              "    <tr>\n",
              "      <th>4</th>\n",
              "      <td>1</td>\n",
              "      <td>1</td>\n",
              "      <td>Futrelle, Mrs. Jacques Heath (Lily May Peel)</td>\n",
              "      <td>F</td>\n",
              "      <td>35.0</td>\n",
              "      <td>1</td>\n",
              "      <td>0</td>\n",
              "      <td>113803</td>\n",
              "      <td>53.10</td>\n",
              "      <td>C123</td>\n",
              "      <td>S</td>\n",
              "      <td>C</td>\n",
              "      <td>123</td>\n",
              "    </tr>\n",
              "    <tr>\n",
              "      <th>5</th>\n",
              "      <td>0</td>\n",
              "      <td>3</td>\n",
              "      <td>Allen, Mr. William Henry</td>\n",
              "      <td>M</td>\n",
              "      <td>35.0</td>\n",
              "      <td>0</td>\n",
              "      <td>0</td>\n",
              "      <td>373450</td>\n",
              "      <td>8.05</td>\n",
              "      <td>NaN</td>\n",
              "      <td>S</td>\n",
              "      <td>NaN</td>\n",
              "      <td>NaN</td>\n",
              "    </tr>\n",
              "  </tbody>\n",
              "</table>\n",
              "<p>5 rows × 13 columns</p>\n",
              "</div>"
            ],
            "text/plain": [
              "             Survived  Pclass  \\\n",
              "PassengerId                     \n",
              "1                   0       3   \n",
              "2                   1       1   \n",
              "3                   1       3   \n",
              "4                   1       1   \n",
              "5                   0       3   \n",
              "\n",
              "                                                          Name Sex   Age  \\\n",
              "PassengerId                                                                \n",
              "1                                      Braund, Mr. Owen Harris   M  22.0   \n",
              "2            Cumings, Mrs. John Bradley (Florence Briggs Th...   F  38.0   \n",
              "3                                       Heikkinen, Miss. Laina   F  26.0   \n",
              "4                 Futrelle, Mrs. Jacques Heath (Lily May Peel)   F  35.0   \n",
              "5                                     Allen, Mr. William Henry   M  35.0   \n",
              "\n",
              "             SibSp  Parch            Ticket   Fare Cabin Embarked Deack Seat  \n",
              "PassengerId                                                                   \n",
              "1                1      0         A/5 21171   7.25   NaN        S   NaN  NaN  \n",
              "2                1      0          PC 17599  71.28   C85        C     C   85  \n",
              "3                0      0  STON/O2. 3101282   7.92   NaN        S   NaN  NaN  \n",
              "4                1      0            113803  53.10  C123        S     C  123  \n",
              "5                0      0            373450   8.05   NaN        S   NaN  NaN  \n",
              "\n",
              "[5 rows x 13 columns]"
            ]
          },
          "metadata": {
            "tags": []
          },
          "execution_count": 78
        }
      ]
    },
    {
      "cell_type": "code",
      "metadata": {
        "id": "ElMo9UBWUfaM",
        "outputId": "9af46561-3591-4af2-c76a-c437042234a8",
        "colab": {
          "base_uri": "https://localhost:8080/",
          "height": 446
        }
      },
      "source": [
        "# Verificando se os valores múltiplos de 'Cabin' foram corretamente trabalhados\n",
        "df_Titanic_WMV[df_Titanic_WMV['Cabin'].str.contains(r'\\s+', na=False, regex=True)][['Cabin', 'Deack', 'Seat']]"
      ],
      "execution_count": 65,
      "outputs": [
        {
          "output_type": "execute_result",
          "data": {
            "text/html": [
              "<div>\n",
              "<style scoped>\n",
              "    .dataframe tbody tr th:only-of-type {\n",
              "        vertical-align: middle;\n",
              "    }\n",
              "\n",
              "    .dataframe tbody tr th {\n",
              "        vertical-align: top;\n",
              "    }\n",
              "\n",
              "    .dataframe thead th {\n",
              "        text-align: right;\n",
              "    }\n",
              "</style>\n",
              "<table border=\"1\" class=\"dataframe\">\n",
              "  <thead>\n",
              "    <tr style=\"text-align: right;\">\n",
              "      <th></th>\n",
              "      <th>Cabin</th>\n",
              "      <th>Deack</th>\n",
              "      <th>Seat</th>\n",
              "    </tr>\n",
              "    <tr>\n",
              "      <th>PassengerId</th>\n",
              "      <th></th>\n",
              "      <th></th>\n",
              "      <th></th>\n",
              "    </tr>\n",
              "  </thead>\n",
              "  <tbody>\n",
              "    <tr>\n",
              "      <th>28</th>\n",
              "      <td>C23 C25 C27</td>\n",
              "      <td>C,C,C</td>\n",
              "      <td>23,25,27</td>\n",
              "    </tr>\n",
              "    <tr>\n",
              "      <th>76</th>\n",
              "      <td>F G73</td>\n",
              "      <td>F,G</td>\n",
              "      <td>NaN,73</td>\n",
              "    </tr>\n",
              "    <tr>\n",
              "      <th>89</th>\n",
              "      <td>C23 C25 C27</td>\n",
              "      <td>C,C,C</td>\n",
              "      <td>23,25,27</td>\n",
              "    </tr>\n",
              "    <tr>\n",
              "      <th>98</th>\n",
              "      <td>D10 D12</td>\n",
              "      <td>D,D</td>\n",
              "      <td>10,12</td>\n",
              "    </tr>\n",
              "    <tr>\n",
              "      <th>119</th>\n",
              "      <td>B58 B60</td>\n",
              "      <td>B,B</td>\n",
              "      <td>58,60</td>\n",
              "    </tr>\n",
              "    <tr>\n",
              "      <th>...</th>\n",
              "      <td>...</td>\n",
              "      <td>...</td>\n",
              "      <td>...</td>\n",
              "    </tr>\n",
              "    <tr>\n",
              "      <th>743</th>\n",
              "      <td>B57 B59 B63 B66</td>\n",
              "      <td>B,B,B,B</td>\n",
              "      <td>57,59,63,66</td>\n",
              "    </tr>\n",
              "    <tr>\n",
              "      <th>764</th>\n",
              "      <td>B96 B98</td>\n",
              "      <td>B,B</td>\n",
              "      <td>96,98</td>\n",
              "    </tr>\n",
              "    <tr>\n",
              "      <th>790</th>\n",
              "      <td>B82 B84</td>\n",
              "      <td>B,B</td>\n",
              "      <td>82,84</td>\n",
              "    </tr>\n",
              "    <tr>\n",
              "      <th>803</th>\n",
              "      <td>B96 B98</td>\n",
              "      <td>B,B</td>\n",
              "      <td>96,98</td>\n",
              "    </tr>\n",
              "    <tr>\n",
              "      <th>873</th>\n",
              "      <td>B51 B53 B55</td>\n",
              "      <td>B,B,B</td>\n",
              "      <td>51,53,55</td>\n",
              "    </tr>\n",
              "  </tbody>\n",
              "</table>\n",
              "<p>24 rows × 3 columns</p>\n",
              "</div>"
            ],
            "text/plain": [
              "                       Cabin    Deack         Seat\n",
              "PassengerId                                       \n",
              "28               C23 C25 C27    C,C,C     23,25,27\n",
              "76                     F G73      F,G       NaN,73\n",
              "89               C23 C25 C27    C,C,C     23,25,27\n",
              "98                   D10 D12      D,D        10,12\n",
              "119                  B58 B60      B,B        58,60\n",
              "...                      ...      ...          ...\n",
              "743          B57 B59 B63 B66  B,B,B,B  57,59,63,66\n",
              "764                  B96 B98      B,B        96,98\n",
              "790                  B82 B84      B,B        82,84\n",
              "803                  B96 B98      B,B        96,98\n",
              "873              B51 B53 B55    B,B,B     51,53,55\n",
              "\n",
              "[24 rows x 3 columns]"
            ]
          },
          "metadata": {
            "tags": []
          },
          "execution_count": 65
        }
      ]
    },
    {
      "cell_type": "markdown",
      "metadata": {
        "id": "pMBFt04zfqUV"
      },
      "source": [
        "___\n",
        "## Exercício 6\n",
        "* Criar a coluna 'sozinho_parch', onde sozinho_parch= 1 significa que o passageiro viaja sozinho e 0, caso contrário."
      ]
    },
    {
      "cell_type": "code",
      "metadata": {
        "id": "Q_t1Rl-2i5IK",
        "outputId": "c596a7c6-c753-45dd-f240-f8bd96f090f9",
        "colab": {
          "base_uri": "https://localhost:8080/"
        }
      },
      "source": [
        "# Explorando os valores de 'Parch'\n",
        "df_Titanic_WMV['Parch'].unique()"
      ],
      "execution_count": 79,
      "outputs": [
        {
          "output_type": "execute_result",
          "data": {
            "text/plain": [
              "array([0, 1, 2, 5, 3, 4, 6])"
            ]
          },
          "metadata": {
            "tags": []
          },
          "execution_count": 79
        }
      ]
    },
    {
      "cell_type": "code",
      "metadata": {
        "id": "SSfU1qCDjKhU"
      },
      "source": [
        "# Criando a coluna 'sozinho_parch'\n",
        "df_Titanic_WMV['sozinho_parch'] = df_Titanic_WMV['Parch'].map(lambda x: 1 if x == 0 else 0)"
      ],
      "execution_count": null,
      "outputs": []
    },
    {
      "cell_type": "code",
      "metadata": {
        "id": "3j9xpqJ1juM6",
        "outputId": "3f3dd281-f8c9-4d5a-e0e5-8496bf20ac0e",
        "colab": {
          "base_uri": "https://localhost:8080/"
        }
      },
      "source": [
        "# Verificando se há alguma atribuição incorreta para 'sozinho_parch' igual a 1\n",
        "((df_Titanic_WMV['Parch'] == 0) & (df_Titanic_WMV['sozinho_parch'] != 1)).sum()"
      ],
      "execution_count": 86,
      "outputs": [
        {
          "output_type": "execute_result",
          "data": {
            "text/plain": [
              "0"
            ]
          },
          "metadata": {
            "tags": []
          },
          "execution_count": 86
        }
      ]
    },
    {
      "cell_type": "code",
      "metadata": {
        "id": "UNsX9N_Qk88D",
        "outputId": "8b2dabb3-45fe-401e-8b69-66922a3382fd",
        "colab": {
          "base_uri": "https://localhost:8080/"
        }
      },
      "source": [
        "# Verificando se há alguma atribuição incorreta para 'sozinho_parch' igual a 0\n",
        "((df_Titanic_WMV['Parch'] != 0) & (df_Titanic_WMV['sozinho_parch'] != 0)).sum()"
      ],
      "execution_count": 87,
      "outputs": [
        {
          "output_type": "execute_result",
          "data": {
            "text/plain": [
              "0"
            ]
          },
          "metadata": {
            "tags": []
          },
          "execution_count": 87
        }
      ]
    },
    {
      "cell_type": "markdown",
      "metadata": {
        "id": "HbcJKTc2iLOo"
      },
      "source": [
        "___\n",
        "## Exercício 7\n",
        "* Criar o atributo 'sozinho_sibsp', onde sozinho= 1 significa que o passageiro viaja sozinho e 0, caso contrário."
      ]
    },
    {
      "cell_type": "code",
      "metadata": {
        "id": "YmiKU62hlKap",
        "outputId": "3dbf8e6d-8e82-4d07-ada7-9445453c9180",
        "colab": {
          "base_uri": "https://localhost:8080/"
        }
      },
      "source": [
        "# Explorando os valores de 'SibSp'\n",
        "df_Titanic_WMV['SibSp'].unique()"
      ],
      "execution_count": 88,
      "outputs": [
        {
          "output_type": "execute_result",
          "data": {
            "text/plain": [
              "array([1, 0, 3, 4, 2, 5, 8])"
            ]
          },
          "metadata": {
            "tags": []
          },
          "execution_count": 88
        }
      ]
    },
    {
      "cell_type": "code",
      "metadata": {
        "id": "mc71tIddlmAF"
      },
      "source": [
        "# Criando a coluna 'sozinho_sibsp'\n",
        "df_Titanic_WMV['sozinho_sibsp'] = df_Titanic_WMV['SibSp'].map(lambda x: 1 if x == 0 else 0)"
      ],
      "execution_count": 89,
      "outputs": []
    },
    {
      "cell_type": "code",
      "metadata": {
        "id": "QGR0MCQwlvpk",
        "outputId": "9f128532-2daf-42ed-dd55-64e7a5ae364a",
        "colab": {
          "base_uri": "https://localhost:8080/"
        }
      },
      "source": [
        "# Verificando se há alguma atribuição incorreta para 'sozinho_sibsp' igual a 1\n",
        "((df_Titanic_WMV['SibSp'] == 0) & (df_Titanic_WMV['sozinho_sibsp'] != 1)).sum()"
      ],
      "execution_count": 90,
      "outputs": [
        {
          "output_type": "execute_result",
          "data": {
            "text/plain": [
              "0"
            ]
          },
          "metadata": {
            "tags": []
          },
          "execution_count": 90
        }
      ]
    },
    {
      "cell_type": "code",
      "metadata": {
        "id": "b65sg-93l1rr",
        "outputId": "7088d8f9-d715-42f2-d4c7-748267a6a130",
        "colab": {
          "base_uri": "https://localhost:8080/"
        }
      },
      "source": [
        "# Verificando se há alguma atribuição incorreta para 'sozinho_sibsp' igual a 0\n",
        "((df_Titanic_WMV['SibSp'] != 0) & (df_Titanic_WMV['sozinho_sibsp'] != 0)).sum()"
      ],
      "execution_count": 91,
      "outputs": [
        {
          "output_type": "execute_result",
          "data": {
            "text/plain": [
              "0"
            ]
          },
          "metadata": {
            "tags": []
          },
          "execution_count": 91
        }
      ]
    },
    {
      "cell_type": "markdown",
      "metadata": {
        "id": "WNmgq66PiQ4I"
      },
      "source": [
        "___\n",
        "## Exercício 8\n",
        "* Discretizar a coluna 'fare' em 10 buckets."
      ]
    },
    {
      "cell_type": "code",
      "metadata": {
        "id": "bl_OBeIrl8hk",
        "outputId": "8d1ecdab-8906-4815-8040-e132f613c0f0",
        "colab": {
          "base_uri": "https://localhost:8080/"
        }
      },
      "source": [
        "# Explorando a coluna 'Fare'\n",
        "df_Titanic_WMV['Fare'].describe()"
      ],
      "execution_count": 92,
      "outputs": [
        {
          "output_type": "execute_result",
          "data": {
            "text/plain": [
              "count    891.00\n",
              "mean      32.20\n",
              "std       49.69\n",
              "min        0.00\n",
              "25%        7.91\n",
              "50%       14.45\n",
              "75%       31.00\n",
              "max      512.33\n",
              "Name: Fare, Length: 8, dtype: float64"
            ]
          },
          "metadata": {
            "tags": []
          },
          "execution_count": 92
        }
      ]
    },
    {
      "cell_type": "code",
      "metadata": {
        "id": "t9mbQ4SmotZD",
        "outputId": "898c5c83-8455-4b64-b5ba-650816fff009",
        "colab": {
          "base_uri": "https://localhost:8080/",
          "height": 446
        }
      },
      "source": [
        "# Atribuindo o valor de cut de 'Fare' na coluna 'Disc_Fare'\n",
        "df_Titanic_WMV['Disc_Fare'] = pd.cut(df_Titanic_WMV['Fare'], bins=10, precision=2, include_lowest=True)\n",
        "df_Titanic_WMV[['Fare', 'Disc_Fare']].head(20)"
      ],
      "execution_count": 94,
      "outputs": [
        {
          "output_type": "execute_result",
          "data": {
            "text/html": [
              "<div>\n",
              "<style scoped>\n",
              "    .dataframe tbody tr th:only-of-type {\n",
              "        vertical-align: middle;\n",
              "    }\n",
              "\n",
              "    .dataframe tbody tr th {\n",
              "        vertical-align: top;\n",
              "    }\n",
              "\n",
              "    .dataframe thead th {\n",
              "        text-align: right;\n",
              "    }\n",
              "</style>\n",
              "<table border=\"1\" class=\"dataframe\">\n",
              "  <thead>\n",
              "    <tr style=\"text-align: right;\">\n",
              "      <th></th>\n",
              "      <th>Fare</th>\n",
              "      <th>Disc_Fare</th>\n",
              "    </tr>\n",
              "    <tr>\n",
              "      <th>PassengerId</th>\n",
              "      <th></th>\n",
              "      <th></th>\n",
              "    </tr>\n",
              "  </thead>\n",
              "  <tbody>\n",
              "    <tr>\n",
              "      <th>1</th>\n",
              "      <td>7.25</td>\n",
              "      <td>(-0.52, 51.23]</td>\n",
              "    </tr>\n",
              "    <tr>\n",
              "      <th>2</th>\n",
              "      <td>71.28</td>\n",
              "      <td>(51.23, 102.47]</td>\n",
              "    </tr>\n",
              "    <tr>\n",
              "      <th>3</th>\n",
              "      <td>7.92</td>\n",
              "      <td>(-0.52, 51.23]</td>\n",
              "    </tr>\n",
              "    <tr>\n",
              "      <th>4</th>\n",
              "      <td>53.10</td>\n",
              "      <td>(51.23, 102.47]</td>\n",
              "    </tr>\n",
              "    <tr>\n",
              "      <th>5</th>\n",
              "      <td>8.05</td>\n",
              "      <td>(-0.52, 51.23]</td>\n",
              "    </tr>\n",
              "    <tr>\n",
              "      <th>...</th>\n",
              "      <td>...</td>\n",
              "      <td>...</td>\n",
              "    </tr>\n",
              "    <tr>\n",
              "      <th>16</th>\n",
              "      <td>16.00</td>\n",
              "      <td>(-0.52, 51.23]</td>\n",
              "    </tr>\n",
              "    <tr>\n",
              "      <th>17</th>\n",
              "      <td>29.12</td>\n",
              "      <td>(-0.52, 51.23]</td>\n",
              "    </tr>\n",
              "    <tr>\n",
              "      <th>18</th>\n",
              "      <td>13.00</td>\n",
              "      <td>(-0.52, 51.23]</td>\n",
              "    </tr>\n",
              "    <tr>\n",
              "      <th>19</th>\n",
              "      <td>18.00</td>\n",
              "      <td>(-0.52, 51.23]</td>\n",
              "    </tr>\n",
              "    <tr>\n",
              "      <th>20</th>\n",
              "      <td>7.22</td>\n",
              "      <td>(-0.52, 51.23]</td>\n",
              "    </tr>\n",
              "  </tbody>\n",
              "</table>\n",
              "<p>20 rows × 2 columns</p>\n",
              "</div>"
            ],
            "text/plain": [
              "              Fare        Disc_Fare\n",
              "PassengerId                        \n",
              "1             7.25   (-0.52, 51.23]\n",
              "2            71.28  (51.23, 102.47]\n",
              "3             7.92   (-0.52, 51.23]\n",
              "4            53.10  (51.23, 102.47]\n",
              "5             8.05   (-0.52, 51.23]\n",
              "...            ...              ...\n",
              "16           16.00   (-0.52, 51.23]\n",
              "17           29.12   (-0.52, 51.23]\n",
              "18           13.00   (-0.52, 51.23]\n",
              "19           18.00   (-0.52, 51.23]\n",
              "20            7.22   (-0.52, 51.23]\n",
              "\n",
              "[20 rows x 2 columns]"
            ]
          },
          "metadata": {
            "tags": []
          },
          "execution_count": 94
        }
      ]
    },
    {
      "cell_type": "markdown",
      "metadata": {
        "id": "LCS3-8KTikqE"
      },
      "source": [
        "___\n",
        "## Exercício 9\n",
        "* Discretizar a coluna 'age'."
      ]
    },
    {
      "cell_type": "code",
      "metadata": {
        "id": "1YdACfwyqel-",
        "outputId": "0c703e02-1310-4f52-a338-5ee4989f2e40",
        "colab": {
          "base_uri": "https://localhost:8080/"
        }
      },
      "source": [
        "# Explorando os valores de 'Age'\n",
        "df_Titanic_WMV['Age'].describe()"
      ],
      "execution_count": 96,
      "outputs": [
        {
          "output_type": "execute_result",
          "data": {
            "text/plain": [
              "count    714.00\n",
              "mean      29.70\n",
              "std       14.53\n",
              "min        0.42\n",
              "25%       20.12\n",
              "50%       28.00\n",
              "75%       38.00\n",
              "max       80.00\n",
              "Name: Age, Length: 8, dtype: float64"
            ]
          },
          "metadata": {
            "tags": []
          },
          "execution_count": 96
        }
      ]
    },
    {
      "cell_type": "code",
      "metadata": {
        "id": "GiKlLESzqvDe"
      },
      "source": [
        "# Preenchendo os missing values com a média das idades\n",
        "df_Titanic_WMV['Age'] = df_Titanic_WMV['Age'].fillna(df_Titanic_WMV['Age'].mean())"
      ],
      "execution_count": 98,
      "outputs": []
    },
    {
      "cell_type": "code",
      "metadata": {
        "id": "e8R2jbCYr4jv",
        "outputId": "5a20d549-bd95-448b-bbe1-348fbb54f374",
        "colab": {
          "base_uri": "https://localhost:8080/"
        }
      },
      "source": [
        "# Verificando as novas características de 'Age'\n",
        "df_Titanic_WMV['Age'].describe()"
      ],
      "execution_count": 99,
      "outputs": [
        {
          "output_type": "execute_result",
          "data": {
            "text/plain": [
              "count    891.00\n",
              "mean      29.70\n",
              "std       13.00\n",
              "min        0.42\n",
              "25%       22.00\n",
              "50%       29.70\n",
              "75%       35.00\n",
              "max       80.00\n",
              "Name: Age, Length: 8, dtype: float64"
            ]
          },
          "metadata": {
            "tags": []
          },
          "execution_count": 99
        }
      ]
    },
    {
      "cell_type": "code",
      "metadata": {
        "id": "xYBTJ__fsHhM",
        "outputId": "40ee5867-8f6c-49b3-8f5e-b2b8b14479a6",
        "colab": {
          "base_uri": "https://localhost:8080/",
          "height": 446
        }
      },
      "source": [
        "# Atribuindo o valor de cut (8 buckets ~ 10 anos cada) de 'Age' na coluna 'Disc_Age'\n",
        "df_Titanic_WMV['Disc_Age'] = pd.cut(df_Titanic_WMV['Age'], bins=8, precision=0, include_lowest=True)\n",
        "df_Titanic_WMV[['Age', 'Disc_Age']].head(20)"
      ],
      "execution_count": 100,
      "outputs": [
        {
          "output_type": "execute_result",
          "data": {
            "text/html": [
              "<div>\n",
              "<style scoped>\n",
              "    .dataframe tbody tr th:only-of-type {\n",
              "        vertical-align: middle;\n",
              "    }\n",
              "\n",
              "    .dataframe tbody tr th {\n",
              "        vertical-align: top;\n",
              "    }\n",
              "\n",
              "    .dataframe thead th {\n",
              "        text-align: right;\n",
              "    }\n",
              "</style>\n",
              "<table border=\"1\" class=\"dataframe\">\n",
              "  <thead>\n",
              "    <tr style=\"text-align: right;\">\n",
              "      <th></th>\n",
              "      <th>Age</th>\n",
              "      <th>Disc_Age</th>\n",
              "    </tr>\n",
              "    <tr>\n",
              "      <th>PassengerId</th>\n",
              "      <th></th>\n",
              "      <th></th>\n",
              "    </tr>\n",
              "  </thead>\n",
              "  <tbody>\n",
              "    <tr>\n",
              "      <th>1</th>\n",
              "      <td>22.0</td>\n",
              "      <td>(20.0, 30.0]</td>\n",
              "    </tr>\n",
              "    <tr>\n",
              "      <th>2</th>\n",
              "      <td>38.0</td>\n",
              "      <td>(30.0, 40.0]</td>\n",
              "    </tr>\n",
              "    <tr>\n",
              "      <th>3</th>\n",
              "      <td>26.0</td>\n",
              "      <td>(20.0, 30.0]</td>\n",
              "    </tr>\n",
              "    <tr>\n",
              "      <th>4</th>\n",
              "      <td>35.0</td>\n",
              "      <td>(30.0, 40.0]</td>\n",
              "    </tr>\n",
              "    <tr>\n",
              "      <th>5</th>\n",
              "      <td>35.0</td>\n",
              "      <td>(30.0, 40.0]</td>\n",
              "    </tr>\n",
              "    <tr>\n",
              "      <th>...</th>\n",
              "      <td>...</td>\n",
              "      <td>...</td>\n",
              "    </tr>\n",
              "    <tr>\n",
              "      <th>16</th>\n",
              "      <td>55.0</td>\n",
              "      <td>(50.0, 60.0]</td>\n",
              "    </tr>\n",
              "    <tr>\n",
              "      <th>17</th>\n",
              "      <td>2.0</td>\n",
              "      <td>(-1.0, 10.0]</td>\n",
              "    </tr>\n",
              "    <tr>\n",
              "      <th>18</th>\n",
              "      <td>29.7</td>\n",
              "      <td>(20.0, 30.0]</td>\n",
              "    </tr>\n",
              "    <tr>\n",
              "      <th>19</th>\n",
              "      <td>31.0</td>\n",
              "      <td>(30.0, 40.0]</td>\n",
              "    </tr>\n",
              "    <tr>\n",
              "      <th>20</th>\n",
              "      <td>29.7</td>\n",
              "      <td>(20.0, 30.0]</td>\n",
              "    </tr>\n",
              "  </tbody>\n",
              "</table>\n",
              "<p>20 rows × 2 columns</p>\n",
              "</div>"
            ],
            "text/plain": [
              "              Age      Disc_Age\n",
              "PassengerId                    \n",
              "1            22.0  (20.0, 30.0]\n",
              "2            38.0  (30.0, 40.0]\n",
              "3            26.0  (20.0, 30.0]\n",
              "4            35.0  (30.0, 40.0]\n",
              "5            35.0  (30.0, 40.0]\n",
              "...           ...           ...\n",
              "16           55.0  (50.0, 60.0]\n",
              "17            2.0  (-1.0, 10.0]\n",
              "18           29.7  (20.0, 30.0]\n",
              "19           31.0  (30.0, 40.0]\n",
              "20           29.7  (20.0, 30.0]\n",
              "\n",
              "[20 rows x 2 columns]"
            ]
          },
          "metadata": {
            "tags": []
          },
          "execution_count": 100
        }
      ]
    },
    {
      "cell_type": "markdown",
      "metadata": {
        "id": "Zw5MD4aXipTy"
      },
      "source": [
        "___\n",
        "## Exercício 10\n",
        "* Capturar os títulos 'Ms', 'Mr' e etc contidos na coluna 'Name' e colocar na coluna 'Title'."
      ]
    },
    {
      "cell_type": "code",
      "metadata": {
        "id": "YAqJ8cDPszmf",
        "outputId": "af3e4ccf-413e-41c9-fda3-2562081b33a1",
        "colab": {
          "base_uri": "https://localhost:8080/"
        }
      },
      "source": [
        "# Explorando os valores de 'Name'\n",
        "df_Titanic_WMV['Name'].head(30)"
      ],
      "execution_count": 104,
      "outputs": [
        {
          "output_type": "execute_result",
          "data": {
            "text/plain": [
              "PassengerId\n",
              "1                               Braund, Mr. Owen Harris\n",
              "2     Cumings, Mrs. John Bradley (Florence Briggs Th...\n",
              "3                                Heikkinen, Miss. Laina\n",
              "4          Futrelle, Mrs. Jacques Heath (Lily May Peel)\n",
              "5                              Allen, Mr. William Henry\n",
              "                            ...                        \n",
              "26    Asplund, Mrs. Carl Oscar (Selma Augusta Emilia...\n",
              "27                              Emir, Mr. Farred Chehab\n",
              "28                       Fortune, Mr. Charles Alexander\n",
              "29                        O'Dwyer, Miss. Ellen \"Nellie\"\n",
              "30                                  Todoroff, Mr. Lalio\n",
              "Name: Name, Length: 30, dtype: object"
            ]
          },
          "metadata": {
            "tags": []
          },
          "execution_count": 104
        }
      ]
    },
    {
      "cell_type": "code",
      "metadata": {
        "id": "yEBybQgwti_N",
        "outputId": "ef7bd605-102e-46ed-8513-c41cd20de144",
        "colab": {
          "base_uri": "https://localhost:8080/",
          "height": 446
        }
      },
      "source": [
        "# Extraindo o título de 'Name' para atribuir a 'Title'\n",
        "df_Titanic_WMV['Title'] = df_Titanic_WMV['Name'].str.extract(r',\\s*([Mris]+)\\.\\s*')\n",
        "df_Titanic_WMV[['Title', 'Name']].head(20)"
      ],
      "execution_count": 105,
      "outputs": [
        {
          "output_type": "execute_result",
          "data": {
            "text/html": [
              "<div>\n",
              "<style scoped>\n",
              "    .dataframe tbody tr th:only-of-type {\n",
              "        vertical-align: middle;\n",
              "    }\n",
              "\n",
              "    .dataframe tbody tr th {\n",
              "        vertical-align: top;\n",
              "    }\n",
              "\n",
              "    .dataframe thead th {\n",
              "        text-align: right;\n",
              "    }\n",
              "</style>\n",
              "<table border=\"1\" class=\"dataframe\">\n",
              "  <thead>\n",
              "    <tr style=\"text-align: right;\">\n",
              "      <th></th>\n",
              "      <th>Title</th>\n",
              "      <th>Name</th>\n",
              "    </tr>\n",
              "    <tr>\n",
              "      <th>PassengerId</th>\n",
              "      <th></th>\n",
              "      <th></th>\n",
              "    </tr>\n",
              "  </thead>\n",
              "  <tbody>\n",
              "    <tr>\n",
              "      <th>1</th>\n",
              "      <td>Mr</td>\n",
              "      <td>Braund, Mr. Owen Harris</td>\n",
              "    </tr>\n",
              "    <tr>\n",
              "      <th>2</th>\n",
              "      <td>Mrs</td>\n",
              "      <td>Cumings, Mrs. John Bradley (Florence Briggs Th...</td>\n",
              "    </tr>\n",
              "    <tr>\n",
              "      <th>3</th>\n",
              "      <td>Miss</td>\n",
              "      <td>Heikkinen, Miss. Laina</td>\n",
              "    </tr>\n",
              "    <tr>\n",
              "      <th>4</th>\n",
              "      <td>Mrs</td>\n",
              "      <td>Futrelle, Mrs. Jacques Heath (Lily May Peel)</td>\n",
              "    </tr>\n",
              "    <tr>\n",
              "      <th>5</th>\n",
              "      <td>Mr</td>\n",
              "      <td>Allen, Mr. William Henry</td>\n",
              "    </tr>\n",
              "    <tr>\n",
              "      <th>...</th>\n",
              "      <td>...</td>\n",
              "      <td>...</td>\n",
              "    </tr>\n",
              "    <tr>\n",
              "      <th>16</th>\n",
              "      <td>Mrs</td>\n",
              "      <td>Hewlett, Mrs. (Mary D Kingcome)</td>\n",
              "    </tr>\n",
              "    <tr>\n",
              "      <th>17</th>\n",
              "      <td>NaN</td>\n",
              "      <td>Rice, Master. Eugene</td>\n",
              "    </tr>\n",
              "    <tr>\n",
              "      <th>18</th>\n",
              "      <td>Mr</td>\n",
              "      <td>Williams, Mr. Charles Eugene</td>\n",
              "    </tr>\n",
              "    <tr>\n",
              "      <th>19</th>\n",
              "      <td>Mrs</td>\n",
              "      <td>Vander Planke, Mrs. Julius (Emelia Maria Vande...</td>\n",
              "    </tr>\n",
              "    <tr>\n",
              "      <th>20</th>\n",
              "      <td>Mrs</td>\n",
              "      <td>Masselmani, Mrs. Fatima</td>\n",
              "    </tr>\n",
              "  </tbody>\n",
              "</table>\n",
              "<p>20 rows × 2 columns</p>\n",
              "</div>"
            ],
            "text/plain": [
              "            Title                                               Name\n",
              "PassengerId                                                         \n",
              "1              Mr                            Braund, Mr. Owen Harris\n",
              "2             Mrs  Cumings, Mrs. John Bradley (Florence Briggs Th...\n",
              "3            Miss                             Heikkinen, Miss. Laina\n",
              "4             Mrs       Futrelle, Mrs. Jacques Heath (Lily May Peel)\n",
              "5              Mr                           Allen, Mr. William Henry\n",
              "...           ...                                                ...\n",
              "16            Mrs                   Hewlett, Mrs. (Mary D Kingcome) \n",
              "17            NaN                               Rice, Master. Eugene\n",
              "18             Mr                       Williams, Mr. Charles Eugene\n",
              "19            Mrs  Vander Planke, Mrs. Julius (Emelia Maria Vande...\n",
              "20            Mrs                            Masselmani, Mrs. Fatima\n",
              "\n",
              "[20 rows x 2 columns]"
            ]
          },
          "metadata": {
            "tags": []
          },
          "execution_count": 105
        }
      ]
    },
    {
      "cell_type": "code",
      "metadata": {
        "id": "KCn2UWJz5vNy"
      },
      "source": [
        "# A função do Nélio parece bem melhor, pois não notei que haviam outros títulos além de Mr, Miss e Mrs\n",
        "def get_title(nome):\n",
        "    if '.' in nome:\n",
        "        return nome.split(',')[1].split('.')[0].strip()\n",
        "    else:\n",
        "        return 'Unknown'\n",
        "\n",
        "def title_map(title):\n",
        "    if title in ['Mr', 'Ms']:\n",
        "        return 1\n",
        "    elif title in ['Master']:\n",
        "        return 2\n",
        "    elif title in ['Ms','Mlle','Miss']:\n",
        "        return 3\n",
        "    elif title in [\"Mme\", \"Ms\", \"Mrs\"]:\n",
        "        return 4\n",
        "    elif title in [\"Jonkheer\", \"Don\", \"Sir\", \"the Countess\", \"Dona\", \"Lady\"]:\n",
        "        return 5\n",
        "    elif title in [\"Capt\", \"Col\", \"Major\", \"Dr\", \"Rev\"]:\n",
        "        return 6\n",
        "    else:\n",
        "        return 7"
      ],
      "execution_count": 121,
      "outputs": []
    },
    {
      "cell_type": "code",
      "metadata": {
        "id": "WmzPeGLP58jz",
        "outputId": "aa727e99-a806-40c4-8a4b-26c10fdb0365",
        "colab": {
          "base_uri": "https://localhost:8080/"
        }
      },
      "source": [
        "df_Titanic_WMV['Title_2'] = df_Titanic_WMV['Name'].apply(get_title).apply(title_map)  \n",
        "set(df_Titanic_WMV['Title_2']) # Esse comando mostra os NaN's da variável"
      ],
      "execution_count": 122,
      "outputs": [
        {
          "output_type": "execute_result",
          "data": {
            "text/plain": [
              "{1, 2, 3, 4, 5, 6}"
            ]
          },
          "metadata": {
            "tags": []
          },
          "execution_count": 122
        }
      ]
    },
    {
      "cell_type": "markdown",
      "metadata": {
        "id": "tGzpWmeiiuk5"
      },
      "source": [
        "___\n",
        "## Exercício 11\n",
        "* Qual a relação entre as variáveis e a variável-target?"
      ]
    },
    {
      "cell_type": "code",
      "metadata": {
        "id": "b-uXzbnZvGmc",
        "outputId": "b4b88072-5fed-42fa-a5ad-79f45d84ee23",
        "colab": {
          "base_uri": "https://localhost:8080/"
        }
      },
      "source": [
        "# Verificando a matriz de correlações no que diz respeito à variável Survived\n",
        "df_Titanic_WMV.corr()['Survived']"
      ],
      "execution_count": 107,
      "outputs": [
        {
          "output_type": "execute_result",
          "data": {
            "text/plain": [
              "Survived         1.00\n",
              "Pclass          -0.34\n",
              "Age             -0.07\n",
              "SibSp           -0.04\n",
              "Parch            0.08\n",
              "Fare             0.26\n",
              "sozinho_parch   -0.15\n",
              "sozinho_sibsp   -0.12\n",
              "Name: Survived, Length: 8, dtype: float64"
            ]
          },
          "metadata": {
            "tags": []
          },
          "execution_count": 107
        }
      ]
    },
    {
      "cell_type": "code",
      "metadata": {
        "id": "BrdjRue93OUn",
        "outputId": "7a6d61c7-7421-4461-c4a6-6eb104bbfede",
        "colab": {
          "base_uri": "https://localhost:8080/",
          "height": 303
        }
      },
      "source": [
        "# Verificando as relações com a variável 'Embarked'\n",
        "sns.countplot(x = 'Survived', hue ='Embarked', data = df_Titanic_WMV)"
      ],
      "execution_count": 116,
      "outputs": [
        {
          "output_type": "execute_result",
          "data": {
            "text/plain": [
              "<matplotlib.axes._subplots.AxesSubplot at 0x7f146e7fc9b0>"
            ]
          },
          "metadata": {
            "tags": []
          },
          "execution_count": 116
        },
        {
          "output_type": "display_data",
          "data": {
            "image/png": "[encoded data removed]",
            "text/plain": [
              "<Figure size 432x288 with 1 Axes>"
            ]
          },
          "metadata": {
            "tags": []
          }
        }
      ]
    },
    {
      "cell_type": "markdown",
      "metadata": {
        "id": "_jyfes903uEe"
      },
      "source": [
        "**Aparentemente quem embarcou na cidade de código 'S' teve bem menos de 50% de chances de sobreviver, enquanto que os que embarcaram nas outras cidades que tiveram aproximadamente 50% de chances de sobreviver.**"
      ]
    },
    {
      "cell_type": "code",
      "metadata": {
        "id": "0VEQeBMl3ao3",
        "outputId": "4d1b170c-a41f-4a3e-96d4-26f865749774",
        "colab": {
          "base_uri": "https://localhost:8080/",
          "height": 303
        }
      },
      "source": [
        "# Verificando as relações com a variável 'Pclass'\n",
        "sns.countplot(x = 'Survived', hue ='Pclass', data = df_Titanic_WMV)"
      ],
      "execution_count": 118,
      "outputs": [
        {
          "output_type": "execute_result",
          "data": {
            "text/plain": [
              "<matplotlib.axes._subplots.AxesSubplot at 0x7f146e7df240>"
            ]
          },
          "metadata": {
            "tags": []
          },
          "execution_count": 118
        },
        {
          "output_type": "display_data",
          "data": {
            "image/png": "[encoded data removed]",
            "text/plain": [
              "<Figure size 432x288 with 1 Axes>"
            ]
          },
          "metadata": {
            "tags": []
          }
        }
      ]
    },
    {
      "cell_type": "markdown",
      "metadata": {
        "id": "CcPe0F064E8x"
      },
      "source": [
        "**Aparentemente quem estava na classe 1 teve um pouco mais de 50% de chances de sobreviver, enquanto quem estava na classe 3 teve bem menos de 50% de chanches de sobreviver.**"
      ]
    },
    {
      "cell_type": "code",
      "metadata": {
        "id": "_YFNX89y4p8l",
        "outputId": "6c53ac5b-5f7c-4370-ea00-4bdc31ae9357",
        "colab": {
          "base_uri": "https://localhost:8080/",
          "height": 303
        }
      },
      "source": [
        "# Verificando as relações com a variável 'Disc_Age'\n",
        "sns.countplot(x = 'Survived', hue ='Disc_Age', data = df_Titanic_WMV)"
      ],
      "execution_count": 119,
      "outputs": [
        {
          "output_type": "execute_result",
          "data": {
            "text/plain": [
              "<matplotlib.axes._subplots.AxesSubplot at 0x7f146e74e4e0>"
            ]
          },
          "metadata": {
            "tags": []
          },
          "execution_count": 119
        },
        {
          "output_type": "display_data",
          "data": {
            "image/png": "[encoded data removed]",
            "text/plain": [
              "<Figure size 432x288 with 1 Axes>"
            ]
          },
          "metadata": {
            "tags": []
          }
        }
      ]
    },
    {
      "cell_type": "markdown",
      "metadata": {
        "id": "xImSQFCZ4504"
      },
      "source": [
        "**Aparentemente quem tinha entre 20 e 30 anos teve bem menos de 50% de chances de sobreviver. Quem tinha entre 10 e 20 anos teve um pouco menos de 50% de chances de sobreviver. As outras faixas de idade tiveram aproximadamente 50% de chances de sobreviver.**"
      ]
    },
    {
      "cell_type": "code",
      "metadata": {
        "id": "yxPGqn8Q5V4o",
        "outputId": "afdc1b6c-8af3-4b88-8251-c146ed74cdbe",
        "colab": {
          "base_uri": "https://localhost:8080/",
          "height": 303
        }
      },
      "source": [
        "# Verificando as relações com a variável 'Disc_Fare'\n",
        "sns.countplot(x = 'Survived', hue ='Disc_Fare', data = df_Titanic_WMV)"
      ],
      "execution_count": 120,
      "outputs": [
        {
          "output_type": "execute_result",
          "data": {
            "text/plain": [
              "<matplotlib.axes._subplots.AxesSubplot at 0x7f146e74e9e8>"
            ]
          },
          "metadata": {
            "tags": []
          },
          "execution_count": 120
        },
        {
          "output_type": "display_data",
          "data": {
            "image/png": "[encoded data removed]",
            "text/plain": [
              "<Figure size 432x288 with 1 Axes>"
            ]
          },
          "metadata": {
            "tags": []
          }
        }
      ]
    },
    {
      "cell_type": "markdown",
      "metadata": {
        "id": "SbmmvJKt7VPe"
      },
      "source": [
        "## Relação causa --> efeito\n",
        "\n",
        "A função a seguir que o Nélio desenvolveu nos ajudará com o Data Visualization, cruzando a variável-resposta 'survived' com qualquer outra passada à função:"
      ]
    },
    {
      "cell_type": "code",
      "metadata": {
        "id": "YAy6ShFx5ogM"
      },
      "source": [
        "def taxa_sobrevivencia(df, column):\n",
        "    title_xt = pd.crosstab(df[column], df['Survived'])\n",
        "    print(pd.crosstab(df[column], df['Survived'], margins=True))\n",
        "    title_xt_pct = title_xt.div(title_xt.sum(1).astype(float), axis =0)\n",
        "    \n",
        "    title_xt_pct.plot(kind='bar', stacked=True, title='Taxa de Sobrevivência dos Passageiros', \n",
        "                      color= ['r', 'g'])\n",
        "    plt.xlabel(column)\n",
        "    plt.ylabel('Taxa de Sobrevivência')\n",
        "    plt.legend(loc='upper center', bbox_to_anchor=(0.5, -0.05),shadow=True, ncol=2)\n",
        "    plt.show()\n",
        "\n",
        "def grafico_catplot(x, y, hue = 'Survived', col= None):\n",
        "    plt.rcdefaults()\n",
        "    g= sns.catplot(x= x, y= y, hue = hue, palette={'Died':'red','Survived':'blue'}, col= col, data = df, kind= 'bar', height=4, aspect=.7)\n",
        "    plt.show()"
      ],
      "execution_count": 123,
      "outputs": []
    },
    {
      "cell_type": "code",
      "metadata": {
        "id": "oYRqh-Qj7mKw",
        "outputId": "202b16d6-6d7d-4317-956d-dac130f3ec31",
        "colab": {
          "base_uri": "https://localhost:8080/",
          "height": 421
        }
      },
      "source": [
        "taxa_sobrevivencia(df_Titanic_WMV, 'Sex')"
      ],
      "execution_count": 126,
      "outputs": [
        {
          "output_type": "stream",
          "text": [
            "Survived    0    1  All\n",
            "Sex                    \n",
            "F          81  233  314\n",
            "M         468  109  577\n",
            "All       549  342  891\n",
            "\n",
            "[3 rows x 3 columns]\n"
          ],
          "name": "stdout"
        },
        {
          "output_type": "display_data",
          "data": {
            "image/png": "[encoded data removed]",
            "text/plain": [
              "<Figure size 432x288 with 1 Axes>"
            ]
          },
          "metadata": {
            "tags": []
          }
        }
      ]
    },
    {
      "cell_type": "code",
      "metadata": {
        "id": "wa1v8l5476IY",
        "outputId": "1669d9ad-d8d6-4fd7-f13d-b1c5f078f68a",
        "colab": {
          "base_uri": "https://localhost:8080/",
          "height": 439
        }
      },
      "source": [
        "taxa_sobrevivencia(df_Titanic_WMV, 'Pclass')"
      ],
      "execution_count": 127,
      "outputs": [
        {
          "output_type": "stream",
          "text": [
            "Survived    0    1  All\n",
            "Pclass                 \n",
            "1          80  136  216\n",
            "2          97   87  184\n",
            "3         372  119  491\n",
            "All       549  342  891\n",
            "\n",
            "[4 rows x 3 columns]\n"
          ],
          "name": "stdout"
        },
        {
          "output_type": "display_data",
          "data": {
            "image/png": "[encoded data removed]",
            "text/plain": [
              "<Figure size 432x288 with 1 Axes>"
            ]
          },
          "metadata": {
            "tags": []
          }
        }
      ]
    },
    {
      "cell_type": "code",
      "metadata": {
        "id": "EWoETPJ68JjO",
        "outputId": "ec4fb888-b265-4926-d0e3-5ff597fb01f4",
        "colab": {
          "base_uri": "https://localhost:8080/",
          "height": 581
        }
      },
      "source": [
        "taxa_sobrevivencia(df_Titanic_WMV, 'Disc_Age')"
      ],
      "execution_count": 128,
      "outputs": [
        {
          "output_type": "stream",
          "text": [
            "Survived        0    1  All\n",
            "Disc_Age                   \n",
            "(-1.0, 10.0]   26   38   64\n",
            "(10.0, 20.0]   71   44  115\n",
            "(20.0, 30.0]  271  136  407\n",
            "(30.0, 40.0]   86   69  155\n",
            "(40.0, 50.0]   53   33   86\n",
            "(50.0, 60.0]   25   17   42\n",
            "(60.0, 70.0]   13    4   17\n",
            "(70.0, 80.0]    4    1    5\n",
            "All           549  342  891\n",
            "\n",
            "[9 rows x 3 columns]\n"
          ],
          "name": "stdout"
        },
        {
          "output_type": "display_data",
          "data": {
            "image/png": "[encoded data removed]",
            "text/plain": [
              "<Figure size 432x288 with 1 Axes>"
            ]
          },
          "metadata": {
            "tags": []
          }
        }
      ]
    }
  ]
}