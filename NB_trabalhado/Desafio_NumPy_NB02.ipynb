{
  "nbformat": 4,
  "nbformat_minor": 0,
  "metadata": {
    "colab": {
      "name": "Desafio NumPy - NB02.ipynb",
      "provenance": [],
      "authorship_tag": "ABX9TyMWvkUJvFDAccxjq8HaiwFj",
      "include_colab_link": true
    },
    "kernelspec": {
      "name": "python3",
      "display_name": "Python 3"
    }
  },
  "cells": [
    {
      "cell_type": "markdown",
      "metadata": {
        "id": "view-in-github",
        "colab_type": "text"
      },
      "source": [
        "<a href=\"https://colab.research.google.com/github/Sedinei/DSWP/blob/master/NB_trabalhado/Desafio_NumPy_NB02.ipynb\" target=\"_parent\"><img src=\"https://colab.research.google.com/assets/colab-badge.svg\" alt=\"Open In Colab\"/></a>"
      ]
    },
    {
      "cell_type": "markdown",
      "metadata": {
        "id": "zD4q4sxjmxCt"
      },
      "source": [
        "### Desafio para resolverem\n",
        "> **Objetivo**: Simular aleatoriamente o salário de 1.000 pessoas com distribuição N(1.045; 100). \n",
        "* Identificar os _outliers_ da distribuição que acabamos de simular;\n",
        "* Qual a média da distribuição que simulamos?\n",
        "* Qual o desvio-padrão;\n",
        "* Plotar o Boxplot da distribuição dos dados;\n",
        "* Quantas pessoas > Q3 + 1.5*(Q3-Q1)\n",
        "* Substituir os outliers do array por:\n",
        "    * Q1-1.5*(Q3 - Q1), se ponto < Q1-1.5*(Q3-Q1)\n",
        "    * Q3+1.5*(Q3 - Q1), se ponto > Q3+1.5*(Q3-Q1)\n",
        "\n",
        "Obs.: Use np.random.seed(20111974)."
      ]
    },
    {
      "cell_type": "code",
      "metadata": {
        "id": "LeWQn9NdvEOr"
      },
      "source": [
        "import numpy as np\n",
        "from numpy.random import default_rng\n",
        "import seaborn as sns"
      ],
      "execution_count": 7,
      "outputs": []
    },
    {
      "cell_type": "code",
      "metadata": {
        "id": "kMPIZSJko0Cj"
      },
      "source": [
        "np.set_printoptions(precision=2, suppress=True)"
      ],
      "execution_count": 9,
      "outputs": []
    },
    {
      "cell_type": "code",
      "metadata": {
        "id": "W1vBHbGHtRYP"
      },
      "source": [
        "sns.set_style('dark')"
      ],
      "execution_count": 23,
      "outputs": []
    },
    {
      "cell_type": "code",
      "metadata": {
        "id": "9sCpE-4AP2-I",
        "outputId": "f3ef8bfb-2000-4781-b499-e6ec5c515ad8",
        "colab": {
          "base_uri": "https://localhost:8080/",
          "height": 69
        }
      },
      "source": [
        "rnd = default_rng(20111974)\n",
        "salarios = rnd.normal(1045, 100, 1000)\n",
        "salarios[:20]"
      ],
      "execution_count": 10,
      "outputs": [
        {
          "output_type": "execute_result",
          "data": {
            "text/plain": [
              "array([ 981.05, 1226.73, 1075.56, 1006.47,  799.64,  976.85,  993.91,\n",
              "       1180.95,  977.2 , 1023.48,  994.57, 1155.96, 1086.24, 1108.33,\n",
              "       1085.9 , 1070.95, 1007.95,  865.29,  999.26, 1099.6 ])"
            ]
          },
          "metadata": {
            "tags": []
          },
          "execution_count": 10
        }
      ]
    },
    {
      "cell_type": "code",
      "metadata": {
        "id": "d4pIbfx_sEZ7",
        "outputId": "92b1324e-b65b-41f6-d279-466768736dc8",
        "colab": {
          "base_uri": "https://localhost:8080/",
          "height": 387
        }
      },
      "source": [
        "sns.displot(salarios)"
      ],
      "execution_count": 24,
      "outputs": [
        {
          "output_type": "execute_result",
          "data": {
            "text/plain": [
              "<seaborn.axisgrid.FacetGrid at 0x7fb3ba9e8748>"
            ]
          },
          "metadata": {
            "tags": []
          },
          "execution_count": 24
        },
        {
          "output_type": "display_data",
          "data": {
            "image/png": "[encoded data removed]",
            "text/plain": [
              "<Figure size 360x360 with 1 Axes>"
            ]
          },
          "metadata": {
            "tags": []
          }
        }
      ]
    },
    {
      "cell_type": "code",
      "metadata": {
        "id": "Vx5A7DeE2MBF",
        "outputId": "d92e5efd-22b0-4817-c459-39514c81f555",
        "colab": {
          "base_uri": "https://localhost:8080/",
          "height": 52
        }
      },
      "source": [
        "print(f'Média = {np.mean(salarios)}')\n",
        "print(f'Desvio padrão = {np.std(salarios)}')"
      ],
      "execution_count": 28,
      "outputs": [
        {
          "output_type": "stream",
          "text": [
            "Média = 1043.181399718921\n",
            "Desvio padrão = 101.03177092747443\n"
          ],
          "name": "stdout"
        }
      ]
    },
    {
      "cell_type": "code",
      "metadata": {
        "id": "E27ohc8NsWPE",
        "outputId": "a24abcb3-7da7-4885-8df1-0dc84735fec7",
        "colab": {
          "base_uri": "https://localhost:8080/",
          "height": 271
        }
      },
      "source": [
        "sns.boxplot(y=salarios)"
      ],
      "execution_count": 27,
      "outputs": [
        {
          "output_type": "execute_result",
          "data": {
            "text/plain": [
              "<matplotlib.axes._subplots.AxesSubplot at 0x7fb3bcb27518>"
            ]
          },
          "metadata": {
            "tags": []
          },
          "execution_count": 27
        },
        {
          "output_type": "display_data",
          "data": {
            "image/png": "[encoded data removed]",
            "text/plain": [
              "<Figure size 432x288 with 1 Axes>"
            ]
          },
          "metadata": {
            "tags": []
          }
        }
      ]
    },
    {
      "cell_type": "code",
      "metadata": {
        "id": "EIb6UxGNP7fF",
        "outputId": "c5038963-31e7-4171-ee64-ba6975273ff5",
        "colab": {
          "base_uri": "https://localhost:8080/",
          "height": 52
        }
      },
      "source": [
        "q1, q3 = np.percentile(salarios, [25, 75])\n",
        "print(f'Q1 = {q1}')\n",
        "print(f'Q3 = {q3}')"
      ],
      "execution_count": 21,
      "outputs": [
        {
          "output_type": "stream",
          "text": [
            "Q1 = 975.428793712504\n",
            "Q3 = 1108.1780254096598\n"
          ],
          "name": "stdout"
        }
      ]
    },
    {
      "cell_type": "code",
      "metadata": {
        "id": "l0O-YVoIQAfh",
        "outputId": "633ae714-7382-44e8-daa8-3492785c81a1",
        "colab": {
          "base_uri": "https://localhost:8080/",
          "height": 52
        }
      },
      "source": [
        "iqr = q3 - q1\n",
        "sal_min_out = q1 - 1.5 * iqr\n",
        "sal_max_out = q3 + 1.5 * iqr\n",
        "print(f'Limite inferior de salário para outlier: {sal_min_out}')\n",
        "print(f'Limite superior de salário para outlier: {sal_max_out}')"
      ],
      "execution_count": 22,
      "outputs": [
        {
          "output_type": "stream",
          "text": [
            "Limite inferior de salário para outlier: 776.3049461667704\n",
            "Limite superior de salário para outlier: 1307.3018729553935\n"
          ],
          "name": "stdout"
        }
      ]
    },
    {
      "cell_type": "code",
      "metadata": {
        "id": "CckVcfdirIJM",
        "outputId": "63c30692-da50-4d83-f4ca-be379c27c225",
        "colab": {
          "base_uri": "https://localhost:8080/",
          "height": 52
        }
      },
      "source": [
        "outliers_superiores = salarios[salarios > sal_max_out]\n",
        "outliers_inferiores = salarios[salarios < sal_min_out]\n",
        "print(f'Quantidade de outliers superiores: {len(outliers_superiores)}')\n",
        "print(f'Quantidade de outliers inferiores: {len(outliers_inferiores)}')"
      ],
      "execution_count": 29,
      "outputs": [
        {
          "output_type": "stream",
          "text": [
            "Quantidade de outliers superiores: 1\n",
            "Quantidade de outliers inferiores: 5\n"
          ],
          "name": "stdout"
        }
      ]
    },
    {
      "cell_type": "code",
      "metadata": {
        "id": "JArHbPvc392K",
        "outputId": "4aeb078e-6d12-49ed-cc4e-45ecbf7a2ca6",
        "colab": {
          "base_uri": "https://localhost:8080/",
          "height": 265
        }
      },
      "source": [
        "salarios_sem_out = salarios.copy()\n",
        "salarios_sem_out[salarios_sem_out > sal_max_out] = sal_max_out\n",
        "salarios_sem_out[salarios_sem_out < sal_min_out] = sal_min_out\n",
        "sns.boxplot(y=salarios_sem_out)"
      ],
      "execution_count": 31,
      "outputs": [
        {
          "output_type": "execute_result",
          "data": {
            "text/plain": [
              "<matplotlib.axes._subplots.AxesSubplot at 0x7fb3ba841240>"
            ]
          },
          "metadata": {
            "tags": []
          },
          "execution_count": 31
        },
        {
          "output_type": "display_data",
          "data": {
            "image/png": "[encoded data removed]",
            "text/plain": [
              "<Figure size 432x288 with 1 Axes>"
            ]
          },
          "metadata": {
            "tags": []
          }
        }
      ]
    }
  ]
}